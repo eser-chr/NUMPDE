{
 "cells": [
  {
   "cell_type": "code",
   "execution_count": 1,
   "metadata": {},
   "outputs": [],
   "source": [
    "from ngsolve import *\n",
    "from ngsolve.webgui import Draw\n",
    "from netgen.occ import *"
   ]
  },
  {
   "cell_type": "code",
   "execution_count": 2,
   "metadata": {},
   "outputs": [],
   "source": [
    "outer = Rectangle(1,1).Face()\n",
    "outer.edges.Max(X).name = \"r\"\n",
    "outer.edges.Min(X).name = \"l\"\n",
    "outer.edges.Min(Y).name = \"b\"\n",
    "outer.edges.Max(Y).name = \"t\"\n",
    "outer.faces.name = \"outer\"\n",
    "\n",
    "\n",
    "mesh = Mesh(OCCGeometry(outer, dim=2).GenerateMesh(maxh=0.2))\n"
   ]
  },
  {
   "cell_type": "code",
   "execution_count": 3,
   "metadata": {},
   "outputs": [],
   "source": [
    "inner = MoveTo(0.3,0.5).Rectangle(0.2,0.2).Face()\n",
    "inner.faces.name = \"inner_face\"\n",
    "inner.edges.name = \"inner_edge\""
   ]
  },
  {
   "cell_type": "code",
   "execution_count": 4,
   "metadata": {},
   "outputs": [],
   "source": [
    "geo = Glue([inner, outer])"
   ]
  },
  {
   "cell_type": "code",
   "execution_count": 5,
   "metadata": {},
   "outputs": [],
   "source": [
    "mesh = Mesh(OCCGeometry(geo, dim=2).GenerateMesh(maxh=0.01))\n",
    "# Draw(mesh)"
   ]
  },
  {
   "cell_type": "code",
   "execution_count": 7,
   "metadata": {},
   "outputs": [],
   "source": [
    "fes = H1(mesh, order=2, dirichlet=\"t|b\")\n",
    "u, v = fes.TnT()\n",
    "a = BilinearForm(grad(u)*grad(v)*dx).Assemble()\n",
    "gfu = GridFunction(fes)\n",
    "cf = mesh.MaterialCF({\"inner_face\":25}, default = 0)\n",
    "\n",
    "f = LinearForm(cf*v*dx).Assemble()\n",
    "\n",
    "gfu.Set(cf, definedon = mesh.Materials(\".*\"))"
   ]
  },
  {
   "cell_type": "code",
   "execution_count": 8,
   "metadata": {},
   "outputs": [],
   "source": [
    "gfu.vec.data += a.mat.Inverse(freedofs=fes.FreeDofs()) * (f.vec -a.mat * gfu.vec) "
   ]
  },
  {
   "cell_type": "code",
   "execution_count": 9,
   "metadata": {},
   "outputs": [
    {
     "data": {
      "application/vnd.jupyter.widget-view+json": {
       "model_id": "e36f9c3c81f44ab1b3466c4daa7221b4",
       "version_major": 2,
       "version_minor": 0
      },
      "text/plain": [
       "WebGuiWidget(layout=Layout(height='500px', width='100%'), value={'gui_settings': {}, 'ngsolve_version': '6.2.2…"
      ]
     },
     "metadata": {},
     "output_type": "display_data"
    },
    {
     "data": {
      "text/plain": [
       "BaseWebGuiScene"
      ]
     },
     "execution_count": 9,
     "metadata": {},
     "output_type": "execute_result"
    }
   ],
   "source": [
    "Draw(gfu, mesh)"
   ]
  },
  {
   "cell_type": "code",
   "execution_count": null,
   "metadata": {},
   "outputs": [],
   "source": []
  },
  {
   "cell_type": "code",
   "execution_count": null,
   "metadata": {},
   "outputs": [],
   "source": []
  },
  {
   "cell_type": "code",
   "execution_count": 10,
   "metadata": {},
   "outputs": [
    {
     "data": {
      "application/vnd.jupyter.widget-view+json": {
       "model_id": "585bcd14828741d8b9d925dd100209b7",
       "version_major": 2,
       "version_minor": 0
      },
      "text/plain": [
       "WebGuiWidget(layout=Layout(height='500px', width='100%'), value={'gui_settings': {}, 'ngsolve_version': '6.2.2…"
      ]
     },
     "metadata": {},
     "output_type": "display_data"
    },
    {
     "data": {
      "text/plain": [
       "BaseWebGuiScene"
      ]
     },
     "execution_count": 10,
     "metadata": {},
     "output_type": "execute_result"
    }
   ],
   "source": [
    "# vecfun = CF((0,1))\n",
    "n = specialcf.normal(mesh.dim)\n",
    "grad_u = GridFunction(VectorH1(mesh)) # Why do I have to define VectorH1\n",
    "grad_u.Set(grad(gfu))\n",
    "\n",
    "# bottom = -InnerProduct(n, vecfun)\n",
    "# upper = InnerProduct(n, vecfun)\n",
    "\n",
    "Draw(grad_u, mesh, vectors=True)"
   ]
  },
  {
   "cell_type": "code",
   "execution_count": 11,
   "metadata": {},
   "outputs": [
    {
     "data": {
      "text/plain": [
       "-0.3999999277496607"
      ]
     },
     "execution_count": 11,
     "metadata": {},
     "output_type": "execute_result"
    }
   ],
   "source": [
    "Integrate(grad_u*n, mesh.Boundaries('b'))"
   ]
  },
  {
   "cell_type": "code",
   "execution_count": 12,
   "metadata": {},
   "outputs": [
    {
     "data": {
      "text/plain": [
       "-0.6000013490148245"
      ]
     },
     "execution_count": 12,
     "metadata": {},
     "output_type": "execute_result"
    }
   ],
   "source": [
    "Integrate(grad_u* n, mesh.Boundaries('t'))"
   ]
  },
  {
   "cell_type": "markdown",
   "metadata": {},
   "source": [
    "### Maybe a sign issue. I dont know if its normal. I guess its because the defined wrt to the outer plane. I expect a posiitve sign because stuff gets into the box"
   ]
  },
  {
   "cell_type": "code",
   "execution_count": 50,
   "metadata": {},
   "outputs": [],
   "source": [
    "\n",
    "res = f.vec - a.mat * gfu.vec\n",
    "\n",
    "test_v_top = GridFunction(fes)\n",
    "test_v_top.Set(1, definedon = mesh.Boundaries(\"t\"))\n",
    "\n",
    "test_v_bottom = GridFunction(fes)\n",
    "test_v_bottom.Set(0, definedon = mesh.Boundaries(\"b\"))\n",
    "\n",
    "res_v_top = InnerProduct(res, test_v_top.vec)\n"
   ]
  },
  {
   "cell_type": "code",
   "execution_count": 51,
   "metadata": {},
   "outputs": [
    {
     "name": "stdout",
     "output_type": "stream",
     "text": [
      "0.6000000000000876\n"
     ]
    }
   ],
   "source": [
    "print(res_v_top)"
   ]
  },
  {
   "cell_type": "code",
   "execution_count": 52,
   "metadata": {},
   "outputs": [],
   "source": [
    "res = f.vec - a.mat * gfu.vec\n",
    "\n",
    "test_v_top = GridFunction(fes)\n",
    "test_v_top.Set(0, definedon = mesh.Boundaries(\"t\"))\n",
    "\n",
    "test_v_bottom = GridFunction(fes)\n",
    "test_v_bottom.Set(1, definedon = mesh.Boundaries(\"b\"))\n",
    "\n",
    "res_v_bottom = InnerProduct(res, test_v_bottom.vec)"
   ]
  },
  {
   "cell_type": "code",
   "execution_count": 53,
   "metadata": {},
   "outputs": [
    {
     "name": "stdout",
     "output_type": "stream",
     "text": [
      "0.40000000000006664\n"
     ]
    }
   ],
   "source": [
    "print(res_v_bottom)"
   ]
  },
  {
   "cell_type": "code",
   "execution_count": null,
   "metadata": {},
   "outputs": [],
   "source": []
  },
  {
   "cell_type": "code",
   "execution_count": null,
   "metadata": {},
   "outputs": [],
   "source": []
  }
 ],
 "metadata": {
  "kernelspec": {
   "display_name": "Python 3",
   "language": "python",
   "name": "python3"
  },
  "language_info": {
   "codemirror_mode": {
    "name": "ipython",
    "version": 3
   },
   "file_extension": ".py",
   "mimetype": "text/x-python",
   "name": "python",
   "nbconvert_exporter": "python",
   "pygments_lexer": "ipython3",
   "version": "3.11.6"
  }
 },
 "nbformat": 4,
 "nbformat_minor": 2
}
