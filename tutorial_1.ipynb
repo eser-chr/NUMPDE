{
 "cells": [
  {
   "cell_type": "code",
   "execution_count": 1,
   "metadata": {},
   "outputs": [],
   "source": [
    "from ngsolve import *\n",
    "from ngsolve.webgui import Draw"
   ]
  },
  {
   "cell_type": "code",
   "execution_count": 45,
   "metadata": {},
   "outputs": [
    {
     "data": {
      "text/plain": [
       "(39, 56)"
      ]
     },
     "execution_count": 45,
     "metadata": {},
     "output_type": "execute_result"
    }
   ],
   "source": [
    "mesh = Mesh(unit_square.GenerateMesh(maxh=0.2))\n",
    "mesh.nv, mesh.ne   # number of vertices & elements"
   ]
  },
  {
   "cell_type": "code",
   "execution_count": 46,
   "metadata": {},
   "outputs": [
    {
     "data": {
      "application/vnd.jupyter.widget-view+json": {
       "model_id": "778cc8010e7646c4b67b5f206b5b6c33",
       "version_major": 2,
       "version_minor": 0
      },
      "text/plain": [
       "WebGuiWidget(layout=Layout(height='500px', width='100%'), value={'gui_settings': {}, 'ngsolve_version': '6.2.2…"
      ]
     },
     "metadata": {},
     "output_type": "display_data"
    },
    {
     "data": {
      "text/plain": [
       "BaseWebGuiScene"
      ]
     },
     "execution_count": 46,
     "metadata": {},
     "output_type": "execute_result"
    }
   ],
   "source": [
    "Draw(mesh)"
   ]
  },
  {
   "cell_type": "code",
   "execution_count": 18,
   "metadata": {},
   "outputs": [
    {
     "data": {
      "text/plain": [
       "21"
      ]
     },
     "execution_count": 18,
     "metadata": {},
     "output_type": "execute_result"
    }
   ],
   "source": [
    "fes = H1(mesh, order=2, dirichlet=\"bottom|right\")\n",
    "fes.ndof  # number of unknowns in this space\n"
   ]
  },
  {
   "cell_type": "code",
   "execution_count": 19,
   "metadata": {},
   "outputs": [
    {
     "name": "stdout",
     "output_type": "stream",
     "text": [
      "Help on H1 in module ngsolve.comp object:\n",
      "\n",
      "class H1(FESpace)\n",
      " |  An H1-conforming finite element space.\n",
      " |  \n",
      " |  The H1 finite element space consists of continuous and\n",
      " |  element-wise polynomial functions. It uses a hierarchical (=modal)\n",
      " |  basis built from integrated Legendre polynomials on tensor-product elements,\n",
      " |  and Jaboci polynomials on simplicial elements. \n",
      " |  \n",
      " |  Boundary values are well defined. The function can be used directly on the\n",
      " |  boundary, using the trace operator is optional.\n",
      " |  \n",
      " |  The H1 space supports variable order, which can be set individually for edges, \n",
      " |  faces and cells. \n",
      " |  \n",
      " |  Internal degrees of freedom are declared as local dofs and are eliminated \n",
      " |  if static condensation is on.\n",
      " |  \n",
      " |  The wirebasket consists of all vertex dofs. Optionally, one can include the \n",
      " |  first (the quadratic bubble) edge basis function, or all edge basis functions\n",
      " |  into the wirebasket.\n",
      " |  \n",
      " |  Keyword arguments can be:\n",
      " |  \n",
      " |  order: int = 1\n",
      " |    order of finite element space\n",
      " |  complex: bool = False\n",
      " |    Set if FESpace should be complex\n",
      " |  dirichlet: regexpr\n",
      " |    Regular expression string defining the dirichlet boundary.\n",
      " |    More than one boundary can be combined by the | operator,\n",
      " |    i.e.: dirichlet = 'top|right'\n",
      " |  dirichlet_bbnd: regexpr\n",
      " |    Regular expression string defining the dirichlet bboundary,\n",
      " |    i.e. points in 2D and edges in 3D.\n",
      " |    More than one boundary can be combined by the | operator,\n",
      " |    i.e.: dirichlet_bbnd = 'top|right'\n",
      " |  dirichlet_bbbnd: regexpr\n",
      " |    Regular expression string defining the dirichlet bbboundary,\n",
      " |    i.e. points in 3D.\n",
      " |    More than one boundary can be combined by the | operator,\n",
      " |    i.e.: dirichlet_bbbnd = 'top|right'\n",
      " |  definedon: Region or regexpr\n",
      " |    FESpace is only defined on specific Region, created with mesh.Materials('regexpr')\n",
      " |    or mesh.Boundaries('regexpr'). If given a regexpr, the region is assumed to be\n",
      " |    mesh.Materials('regexpr').\n",
      " |  dim: int = 1\n",
      " |    Create multi dimensional FESpace (i.e. [H1]^3)\n",
      " |  dgjumps: bool = False\n",
      " |    Enable discontinuous space for DG methods, this flag is needed for DG methods,\n",
      " |    since the dofs have a different coupling then and this changes the sparsity\n",
      " |    pattern of matrices.\n",
      " |  autoupdate: bool = False\n",
      " |    Automatically update on a change to the mesh.\n",
      " |  low_order_space: bool = True\n",
      " |    Generate a lowest order space together with the high-order space,\n",
      " |    needed for some preconditioners.\n",
      " |  order_policy: ORDER_POLICY = ORDER_POLICY.OLDSTYLE\n",
      " |    CONSTANT .. use the same fixed order for all elements,\n",
      " |    NODAL ..... use the same order for nodes of same shape,\n",
      " |    VARIABLE ... use an individual order for each edge, face and cell,\n",
      " |    OLDSTYLE .. as it used to be for the last decade\n",
      " |  wb_withedges: bool = true(3D) / false(2D)\n",
      " |    use lowest-order edge dofs for BDDC wirebasket\n",
      " |  wb_fulledges: bool = false\n",
      " |    use all edge dofs for BDDC wirebasket\n",
      " |  \n",
      " |  Method resolution order:\n",
      " |      H1\n",
      " |      FESpace\n",
      " |      NGS_Object\n",
      " |      pybind11_builtins.pybind11_object\n",
      " |      builtins.object\n",
      " |  \n",
      " |  Methods defined here:\n",
      " |  \n",
      " |  __getstate__(...)\n",
      " |      __getstate__(self: ngsolve.comp.FESpace) -> tuple\n",
      " |  \n",
      " |  __init__(...)\n",
      " |      __init__(self: ngsolve.comp.H1, mesh: ngsolve.comp.Mesh, **kwargs) -> None\n",
      " |  \n",
      " |  __setstate__(...)\n",
      " |      __setstate__(self: ngsolve.comp.H1, arg0: tuple) -> None\n",
      " |  \n",
      " |  ----------------------------------------------------------------------\n",
      " |  Static methods defined here:\n",
      " |  \n",
      " |  __flags_doc__(...) from builtins.PyCapsule\n",
      " |      __flags_doc__() -> dict\n",
      " |  \n",
      " |  ----------------------------------------------------------------------\n",
      " |  Data descriptors defined here:\n",
      " |  \n",
      " |  __dict__\n",
      " |  \n",
      " |  ----------------------------------------------------------------------\n",
      " |  Methods inherited from FESpace:\n",
      " |  \n",
      " |  ApplyM(...)\n",
      " |      ApplyM(self: ngsolve.comp.FESpace, vec: ngsolve.la.BaseVector, rho: ngsolve.fem.CoefficientFunction = None, definedon: ngsolve.comp.Region = None) -> None\n",
      " |      \n",
      " |      Apply mass-matrix. Available only for L2-like spaces\n",
      " |  \n",
      " |  ConvertL2Operator(...)\n",
      " |      ConvertL2Operator(self: ngsolve.comp.FESpace, l2space: ngsolve.comp.FESpace) -> BaseMatrix\n",
      " |  \n",
      " |  CouplingType(...)\n",
      " |      CouplingType(self: ngsolve.comp.FESpace, dofnr: int) -> ngsolve.comp.COUPLING_TYPE\n",
      " |      \n",
      " |      \n",
      " |               Get coupling type of a degree of freedom.\n",
      " |      \n",
      " |      Parameters:\n",
      " |      \n",
      " |      dofnr : int\n",
      " |        input dof number\n",
      " |  \n",
      " |  CreateDirectSolverCluster(...)\n",
      " |      CreateDirectSolverCluster(self: ngsolve.comp.FESpace, **kwargs) -> list\n",
      " |  \n",
      " |  CreateSmoothingBlocks(...)\n",
      " |      CreateSmoothingBlocks(self: ngsolve.comp.FESpace, **kwargs) -> pyngcore.pyngcore.Table_I\n",
      " |  \n",
      " |  Elements(...)\n",
      " |      Elements(*args, **kwargs)\n",
      " |      Overloaded function.\n",
      " |      \n",
      " |      1. Elements(self: ngsolve.comp.FESpace, VOL_or_BND: ngsolve.comp.VorB = <VorB.VOL: 0>) -> ngsolve.comp.FESpaceElementRange\n",
      " |      \n",
      " |      \n",
      " |      Returns an iterable range of elements.\n",
      " |      \n",
      " |      Parameters:\n",
      " |      \n",
      " |      VOL_or_BND : ngsolve.comp.VorB\n",
      " |        input VOL, BND, BBND,...\n",
      " |      \n",
      " |      \n",
      " |      \n",
      " |      2. Elements(self: ngsolve.comp.FESpace, arg0: ngsolve.comp.Region) -> Iterator\n",
      " |  \n",
      " |  FinalizeUpdate(...)\n",
      " |      FinalizeUpdate(self: ngsolve.comp.FESpace) -> None\n",
      " |      \n",
      " |      finalize update\n",
      " |  \n",
      " |  FreeDofs(...)\n",
      " |      FreeDofs(self: ngsolve.comp.FESpace, coupling: bool = False) -> pyngcore.pyngcore.BitArray\n",
      " |      \n",
      " |      \n",
      " |      \n",
      " |      Return BitArray of free (non-Dirichlet) dofs\\n\n",
      " |      coupling=False ... all free dofs including local dofs\\n\n",
      " |      coupling=True .... only element-boundary free dofs\n",
      " |      \n",
      " |      Parameters:\n",
      " |      \n",
      " |      coupling : bool\n",
      " |        input coupling\n",
      " |  \n",
      " |  GetDofNrs(...)\n",
      " |      GetDofNrs(*args, **kwargs)\n",
      " |      Overloaded function.\n",
      " |      \n",
      " |      1. GetDofNrs(self: ngsolve.comp.FESpace, ei: ngsolve.comp.ElementId) -> tuple\n",
      " |      \n",
      " |      \n",
      " |      \n",
      " |      Parameters:\n",
      " |      \n",
      " |      ei : ngsolve.comp.ElementId\n",
      " |        input element id\n",
      " |      \n",
      " |      \n",
      " |      \n",
      " |      2. GetDofNrs(self: ngsolve.comp.FESpace, ni: ngsolve.comp.NodeId) -> tuple\n",
      " |      \n",
      " |      \n",
      " |      \n",
      " |      Parameters:\n",
      " |      \n",
      " |      ni : ngsolve.comp.NodeId\n",
      " |        input node id\n",
      " |  \n",
      " |  GetDofs(...)\n",
      " |      GetDofs(self: ngsolve.comp.FESpace, region: ngsolve.comp.Region) -> pyngcore.pyngcore.BitArray\n",
      " |      \n",
      " |      \n",
      " |      Returns all degrees of freedom in given region.\n",
      " |      \n",
      " |      Parameters:\n",
      " |      \n",
      " |      region : ngsolve.comp.Region\n",
      " |        input region\n",
      " |  \n",
      " |  GetFE(...)\n",
      " |      GetFE(self: ngsolve.comp.FESpace, ei: ngsolve.comp.ElementId) -> object\n",
      " |      \n",
      " |      \n",
      " |      Get the finite element to corresponding element id.\n",
      " |      \n",
      " |      Parameters:\n",
      " |      \n",
      " |      ei : ngsolve.comp.ElementId\n",
      " |         input element id\n",
      " |  \n",
      " |  GetOrder(...)\n",
      " |      GetOrder(self: ngsolve.comp.FESpace, nodeid: ngsolve.comp.NodeId) -> int\n",
      " |      \n",
      " |      return order of node.\n",
      " |      by now, only isotropic order is supported here\n",
      " |  \n",
      " |  GetTrace(...)\n",
      " |      GetTrace(self: ngsolve.comp.FESpace, arg0: ngsolve.comp.FESpace, arg1: ngsolve.la.BaseVector, arg2: ngsolve.la.BaseVector, arg3: bool) -> None\n",
      " |  \n",
      " |  GetTraceTrans(...)\n",
      " |      GetTraceTrans(self: ngsolve.comp.FESpace, arg0: ngsolve.comp.FESpace, arg1: ngsolve.la.BaseVector, arg2: ngsolve.la.BaseVector, arg3: bool) -> None\n",
      " |  \n",
      " |  HideAllDofs(...)\n",
      " |      HideAllDofs(self: ngsolve.comp.FESpace, component: object = <ngsolve.ngstd.DummyArgument>) -> None\n",
      " |      \n",
      " |      set all visible coupling types to HIDDEN_DOFs (will be overwritten by any Update())\n",
      " |  \n",
      " |  InvM(...)\n",
      " |      InvM(self: ngsolve.comp.FESpace, rho: ngsolve.fem.CoefficientFunction = None) -> BaseMatrix\n",
      " |  \n",
      " |  Mass(...)\n",
      " |      Mass(self: ngsolve.comp.FESpace, rho: ngsolve.fem.CoefficientFunction = None, definedon: Optional[ngsolve.comp.Region] = None) -> BaseMatrix\n",
      " |  \n",
      " |  ParallelDofs(...)\n",
      " |      ParallelDofs(self: ngsolve.comp.FESpace) -> ngsolve.la.ParallelDofs\n",
      " |      \n",
      " |      Return dof-identification for MPI-distributed meshes\n",
      " |  \n",
      " |  Prolongation(...)\n",
      " |      Prolongation(self: ngsolve.comp.FESpace) -> ngmg::Prolongation\n",
      " |      \n",
      " |      Return prolongation operator for use in multi-grid\n",
      " |  \n",
      " |  Range(...)\n",
      " |      Range(self: ngsolve.comp.FESpace, arg0: int) -> ngsolve.la.DofRange\n",
      " |      \n",
      " |      deprecated, will be only available for ProductSpace\n",
      " |  \n",
      " |  SetCouplingType(...)\n",
      " |      SetCouplingType(*args, **kwargs)\n",
      " |      Overloaded function.\n",
      " |      \n",
      " |      1. SetCouplingType(self: ngsolve.comp.FESpace, dofnr: int, coupling_type: ngsolve.comp.COUPLING_TYPE) -> None\n",
      " |      \n",
      " |      \n",
      " |               Set coupling type of a degree of freedom.\n",
      " |      \n",
      " |      Parameters:\n",
      " |      \n",
      " |      dofnr : int\n",
      " |        input dof number\n",
      " |      \n",
      " |      coupling_type : ngsolve.comp.COUPLING_TYPE\n",
      " |        input coupling type\n",
      " |      \n",
      " |      \n",
      " |      \n",
      " |      2. SetCouplingType(self: ngsolve.comp.FESpace, dofnrs: ngsolve.ngstd.IntRange, coupling_type: ngsolve.comp.COUPLING_TYPE) -> None\n",
      " |      \n",
      " |      \n",
      " |               Set coupling type for interval of dofs.\n",
      " |      \n",
      " |      Parameters:\n",
      " |      \n",
      " |      dofnrs : Range\n",
      " |        range of dofs\n",
      " |      \n",
      " |      coupling_type : ngsolve.comp.COUPLING_TYPE\n",
      " |        input coupling type\n",
      " |  \n",
      " |  SetDefinedOn(...)\n",
      " |      SetDefinedOn(self: ngsolve.comp.FESpace, region: ngsolve.comp.Region) -> None\n",
      " |      \n",
      " |      \n",
      " |      Set the regions on which the FESpace is defined.\n",
      " |      \n",
      " |      Parameters:\n",
      " |      \n",
      " |      region : ngsolve.comp.Region\n",
      " |        input region\n",
      " |  \n",
      " |  SetOrder(...)\n",
      " |      SetOrder(*args, **kwargs)\n",
      " |      Overloaded function.\n",
      " |      \n",
      " |      1. SetOrder(self: ngsolve.comp.FESpace, element_type: ngsolve.fem.ET, order: int) -> None\n",
      " |      \n",
      " |      \n",
      " |      \n",
      " |      Parameters:\n",
      " |      \n",
      " |      element_type : ngsolve.fem.ET\n",
      " |        input element type\n",
      " |      \n",
      " |      order : object\n",
      " |        input polynomial order\n",
      " |      \n",
      " |      \n",
      " |      2. SetOrder(self: ngsolve.comp.FESpace, nodeid: ngsolve.comp.NodeId, order: int) -> None\n",
      " |      \n",
      " |      \n",
      " |      \n",
      " |      Parameters:\n",
      " |      \n",
      " |      nodeid : ngsolve.comp.NodeId\n",
      " |        input node id\n",
      " |      \n",
      " |      order : int\n",
      " |        input polynomial order\n",
      " |  \n",
      " |  SolveM(...)\n",
      " |      SolveM(self: ngsolve.comp.FESpace, vec: ngsolve.la.BaseVector, rho: ngsolve.fem.CoefficientFunction = None, definedon: ngsolve.comp.Region = None) -> None\n",
      " |      \n",
      " |      \n",
      " |               Solve with the mass-matrix. Available only for L2-like spaces.\n",
      " |      \n",
      " |      Parameters:\n",
      " |      \n",
      " |      vec : ngsolve.la.BaseVector\n",
      " |        input right hand side vector\n",
      " |      \n",
      " |      rho : ngsolve.fem.CoefficientFunction\n",
      " |        input CF\n",
      " |  \n",
      " |  TestFunction(...)\n",
      " |      TestFunction(self: ngsolve.comp.FESpace) -> object\n",
      " |      \n",
      " |      Return a proxy to be used as a testfunction for Symbolic Integrators\n",
      " |  \n",
      " |  TnT(...)\n",
      " |      TnT(self: ngsolve.comp.FESpace) -> Tuple[object, object]\n",
      " |      \n",
      " |      Return a tuple of trial and testfunction\n",
      " |  \n",
      " |  TraceOperator(...)\n",
      " |      TraceOperator(self: ngsolve.comp.FESpace, tracespace: ngsolve.comp.FESpace, average: bool) -> BaseMatrix\n",
      " |  \n",
      " |  TrialFunction(...)\n",
      " |      TrialFunction(self: ngsolve.comp.FESpace) -> object\n",
      " |      \n",
      " |      Return a proxy to be used as a trialfunction in Symbolic Integrators\n",
      " |  \n",
      " |  Update(...)\n",
      " |      Update(self: ngsolve.comp.FESpace) -> None\n",
      " |      \n",
      " |      update space after mesh-refinement\n",
      " |  \n",
      " |  UpdateDofTables(...)\n",
      " |      UpdateDofTables(self: ngsolve.comp.FESpace) -> None\n",
      " |      \n",
      " |      update dof-tables after changing polynomial order distribution\n",
      " |  \n",
      " |  __eq__(...)\n",
      " |      __eq__(self: ngsolve.comp.FESpace, space: ngsolve.comp.FESpace) -> bool\n",
      " |  \n",
      " |  __mul__(...)\n",
      " |      __mul__(self: ngsolve.comp.FESpace, arg0: ngsolve.comp.FESpace) -> ngcomp::CompoundFESpace\n",
      " |  \n",
      " |  __pow__(...)\n",
      " |      __pow__(self: ngsolve.comp.FESpace, arg0: int) -> ngcomp::CompoundFESpaceAllSame\n",
      " |  \n",
      " |  __str__(...)\n",
      " |      __str__(self: ngsolve.comp.FESpace) -> str\n",
      " |  \n",
      " |  __timing__(...)\n",
      " |      __timing__(self: ngsolve.comp.FESpace) -> object\n",
      " |  \n",
      " |  ----------------------------------------------------------------------\n",
      " |  Static methods inherited from FESpace:\n",
      " |  \n",
      " |  __special_treated_flags__(...) from builtins.PyCapsule\n",
      " |      __special_treated_flags__() -> dict\n",
      " |  \n",
      " |  ----------------------------------------------------------------------\n",
      " |  Readonly properties inherited from FESpace:\n",
      " |  \n",
      " |  autoupdate\n",
      " |  \n",
      " |  components\n",
      " |      deprecated, will be only available for ProductSpace\n",
      " |  \n",
      " |  couplingtype\n",
      " |  \n",
      " |  dim\n",
      " |      multi-dim of FESpace\n",
      " |  \n",
      " |  globalorder\n",
      " |      query global order of space\n",
      " |  \n",
      " |  is_complex\n",
      " |  \n",
      " |  loembedding\n",
      " |  \n",
      " |  lospace\n",
      " |  \n",
      " |  mesh\n",
      " |      mesh on which the FESpace is created\n",
      " |  \n",
      " |  ndof\n",
      " |      number of degrees of freedom\n",
      " |  \n",
      " |  ndofglobal\n",
      " |      global number of dofs on MPI-distributed mesh\n",
      " |  \n",
      " |  type\n",
      " |      type of finite element space\n",
      " |  \n",
      " |  ----------------------------------------------------------------------\n",
      " |  Data and other attributes inherited from FESpace:\n",
      " |  \n",
      " |  __hash__ = None\n",
      " |  \n",
      " |  ----------------------------------------------------------------------\n",
      " |  Readonly properties inherited from NGS_Object:\n",
      " |  \n",
      " |  __memory__\n",
      " |  \n",
      " |  flags\n",
      " |  \n",
      " |  ----------------------------------------------------------------------\n",
      " |  Data descriptors inherited from NGS_Object:\n",
      " |  \n",
      " |  name\n",
      " |  \n",
      " |  ----------------------------------------------------------------------\n",
      " |  Static methods inherited from pybind11_builtins.pybind11_object:\n",
      " |  \n",
      " |  __new__(*args, **kwargs) from pybind11_builtins.pybind11_type\n",
      " |      Create and return a new object.  See help(type) for accurate signature.\n",
      "\n"
     ]
    }
   ],
   "source": [
    "help(fes)"
   ]
  },
  {
   "cell_type": "code",
   "execution_count": 20,
   "metadata": {},
   "outputs": [],
   "source": [
    "u,v = fes.TnT()\n",
    "gfu = GridFunction(fes)"
   ]
  },
  {
   "cell_type": "code",
   "execution_count": 21,
   "metadata": {},
   "outputs": [],
   "source": [
    "a = BilinearForm(grad(u)*grad(v)*dx).Assemble()\n",
    "f = LinearForm(x*v*dx).Assemble()"
   ]
  },
  {
   "cell_type": "code",
   "execution_count": 22,
   "metadata": {},
   "outputs": [
    {
     "name": "stdout",
     "output_type": "stream",
     "text": [
      "Row 0:   0: 1   4: -0.5   7: -0.5   8: -0.0833333   9: -0.0833333   18: 0.166667\n",
      "Row 1:   1: 1   4: -0.5   5: -0.5   10: -0.0833333   11: -0.0833333   16: 0.166667\n",
      "Row 2:   2: 1   5: -0.5   6: -0.5   12: -0.0833333   13: -0.0833333   19: 0.166667\n",
      "Row 3:   3: 1   6: -0.5   7: -0.5   14: -0.0833333   15: -0.0833333   20: 0.166667\n",
      "Row 4:   0: -0.5   1: -0.5   4: 2   5: -0.5   6: -1.249e-16   7: -0.5   8: 1.38778e-17   9: 0.0833333   10: 0   11: 0.0833333   16: -0.0833333   17: -0.166667   18: -0.0833333   19: 0.0833333   20: 0.0833333\n",
      "Row 5:   1: -0.5   2: -0.5   4: -0.5   5: 2   6: -0.5   10: 0.0833333   11: 0   12: 0   13: 0.0833333   16: -0.166667   17: 0.166667   19: -0.166667\n",
      "Row 6:   2: -0.5   3: -0.5   4: -1.249e-16   5: -0.5   6: 2   7: -0.5   12: 0.0833333   13: 0   14: -2.08167e-17   15: 0.0833333   16: 0.0833333   17: -0.166667   18: 0.0833333   19: -0.0833333   20: -0.0833333\n",
      "Row 7:   0: -0.5   3: -0.5   4: -0.5   6: -0.5   7: 2   8: 0.0833333   9: 2.31296e-17   14: 0.0833333   15: -2.08167e-17   17: 0.166667   18: -0.166667   20: -0.166667\n",
      "Row 8:   0: -0.0833333   4: 1.38778e-17   7: 0.0833333   8: 0.0416667   9: 6.93889e-18   18: -0.0208333\n",
      "Row 9:   0: -0.0833333   4: 0.0833333   7: 2.31296e-17   8: 6.93889e-18   9: 0.0416667   18: -0.0208333\n",
      "Row 10:   1: -0.0833333   4: 0   5: 0.0833333   10: 0.0416667   11: 0   16: -0.0208333\n",
      "Row 11:   1: -0.0833333   4: 0.0833333   5: 0   10: 0   11: 0.0416667   16: -0.0208333\n",
      "Row 12:   2: -0.0833333   5: 0   6: 0.0833333   12: 0.0416667   13: 0   19: -0.0208333\n",
      "Row 13:   2: -0.0833333   5: 0.0833333   6: 0   12: 0   13: 0.0416667   19: -0.0208333\n",
      "Row 14:   3: -0.0833333   6: -2.08167e-17   7: 0.0833333   14: 0.0416667   15: -6.93889e-18   20: -0.0208333\n",
      "Row 15:   3: -0.0833333   6: 0.0833333   7: -2.08167e-17   14: -6.93889e-18   15: 0.0416667   20: -0.0208333\n",
      "Row 16:   1: 0.166667   4: -0.0833333   5: -0.166667   6: 0.0833333   10: -0.0208333   11: -0.0208333   16: 0.0833333   17: -0.0208333   19: 0\n",
      "Row 17:   4: -0.166667   5: 0.166667   6: -0.166667   7: 0.166667   16: -0.0208333   17: 0.0833333   18: -0.0208333   19: -0.0208333   20: -0.0208333\n",
      "Row 18:   0: 0.166667   4: -0.0833333   6: 0.0833333   7: -0.166667   8: -0.0208333   9: -0.0208333   17: -0.0208333   18: 0.0833333   20: -3.46945e-18\n",
      "Row 19:   2: 0.166667   4: 0.0833333   5: -0.166667   6: -0.0833333   12: -0.0208333   13: -0.0208333   16: 0   17: -0.0208333   19: 0.0833333\n",
      "Row 20:   3: 0.166667   4: 0.0833333   6: -0.0833333   7: -0.166667   14: -0.0208333   15: -0.0208333   17: -0.0208333   18: -3.46945e-18   20: 0.0833333\n",
      "\n"
     ]
    }
   ],
   "source": [
    "print(a.mat)"
   ]
  },
  {
   "cell_type": "code",
   "execution_count": 23,
   "metadata": {},
   "outputs": [],
   "source": [
    "gfu.vec.data = a.mat.Inverse(freedofs=fes.FreeDofs()) * f.vec"
   ]
  },
  {
   "cell_type": "code",
   "execution_count": 27,
   "metadata": {},
   "outputs": [],
   "source": [
    "import numpy as np\n",
    "foo = np.zeros(21)\n",
    "foo[10]=1\n",
    "gfu.vec.data = foo\n",
    "# len(gfu.vec.data)"
   ]
  },
  {
   "cell_type": "code",
   "execution_count": 30,
   "metadata": {},
   "outputs": [],
   "source": [
    "myfunc = x*(1-x)"
   ]
  },
  {
   "cell_type": "code",
   "execution_count": 70,
   "metadata": {},
   "outputs": [],
   "source": [
    "# Draw(myfunc, mesh)"
   ]
  },
  {
   "cell_type": "code",
   "execution_count": 40,
   "metadata": {},
   "outputs": [
    {
     "data": {
      "text/plain": [
       "0.21"
      ]
     },
     "execution_count": 40,
     "metadata": {},
     "output_type": "execute_result"
    }
   ],
   "source": [
    "myfunc(mesh(0.3,0.2)) # calc point value"
   ]
  },
  {
   "cell_type": "code",
   "execution_count": 69,
   "metadata": {},
   "outputs": [],
   "source": [
    "df = myfunc.Diff(x) # derivative of a func"
   ]
  },
  {
   "cell_type": "code",
   "execution_count": 43,
   "metadata": {},
   "outputs": [
    {
     "name": "stdout",
     "output_type": "stream",
     "text": [
      "coef binary operation '+', real\n",
      "  coef binary operation '*', real\n",
      "    coef coordinate x, real\n",
      "    coef scale -1, real\n",
      "      coef 1, real\n",
      "  coef binary operation '*', real\n",
      "    coef binary operation '-', real\n",
      "      coef 1, real\n",
      "      coef coordinate x, real\n",
      "    coef 1, real\n",
      "\n"
     ]
    }
   ],
   "source": [
    "print(df) # Operations"
   ]
  },
  {
   "cell_type": "code",
   "execution_count": 72,
   "metadata": {},
   "outputs": [],
   "source": [
    "k = Parameter(10)\n",
    "f = sin(k*x*y)\n",
    "# Draw(f, mesh)\n"
   ]
  },
  {
   "cell_type": "code",
   "execution_count": 54,
   "metadata": {},
   "outputs": [
    {
     "data": {
      "application/vnd.jupyter.widget-view+json": {
       "model_id": "c5e391c84e8f470c9985fcc545a372e1",
       "version_major": 2,
       "version_minor": 0
      },
      "text/plain": [
       "WebGuiWidget(layout=Layout(height='500px', width='100%'), value={'gui_settings': {}, 'ngsolve_version': '6.2.2…"
      ]
     },
     "metadata": {},
     "output_type": "display_data"
    },
    {
     "data": {
      "text/plain": [
       "BaseWebGuiScene"
      ]
     },
     "execution_count": 54,
     "metadata": {},
     "output_type": "execute_result"
    }
   ],
   "source": [
    "fes = H1(mesh, order=2)\n",
    "u = GridFunction(fes)\n",
    "u.Set(f)\n",
    "Draw(u)"
   ]
  },
  {
   "cell_type": "code",
   "execution_count": 53,
   "metadata": {},
   "outputs": [
    {
     "data": {
      "application/vnd.jupyter.widget-view+json": {
       "model_id": "1d62b5865fdb4eb99203b9b1f4e11c03",
       "version_major": 2,
       "version_minor": 0
      },
      "text/plain": [
       "WebGuiWidget(layout=Layout(height='500px', width='100%'), value={'gui_settings': {}, 'ngsolve_version': '6.2.2…"
      ]
     },
     "metadata": {},
     "output_type": "display_data"
    },
    {
     "data": {
      "text/plain": [
       "BaseWebGuiScene"
      ]
     },
     "execution_count": 53,
     "metadata": {},
     "output_type": "execute_result"
    }
   ],
   "source": [
    "Draw(f, mesh)"
   ]
  },
  {
   "cell_type": "code",
   "execution_count": 55,
   "metadata": {},
   "outputs": [],
   "source": [
    "vecfun = CF((-y, sin(x))) \n",
    "# Draw(vecfun, mesh, vectors = True)"
   ]
  },
  {
   "cell_type": "code",
   "execution_count": 78,
   "metadata": {},
   "outputs": [
    {
     "data": {
      "application/vnd.jupyter.widget-view+json": {
       "model_id": "48e12ddc99b54828a41332b626621b29",
       "version_major": 2,
       "version_minor": 0
      },
      "text/plain": [
       "WebGuiWidget(layout=Layout(height='500px', width='100%'), value={'gui_settings': {}, 'ngsolve_version': '6.2.2…"
      ]
     },
     "metadata": {},
     "output_type": "display_data"
    },
    {
     "data": {
      "text/plain": [
       "BaseWebGuiScene"
      ]
     },
     "execution_count": 78,
     "metadata": {},
     "output_type": "execute_result"
    }
   ],
   "source": [
    "# fes = H1(mesh, order=2)\n",
    "# u = GridFunction(fes)\n",
    "# u.Set(f)\n",
    "# Draw(u)\n",
    "\n",
    "w = GridFunction(fes)\n",
    "test_func = x*y\n",
    "w.Set(test_func)\n",
    "gradw = grad(w)\n",
    "Draw(gradw, mesh,vectors={\"grid_size\":30})"
   ]
  },
  {
   "cell_type": "code",
   "execution_count": 58,
   "metadata": {},
   "outputs": [
    {
     "data": {
      "application/vnd.jupyter.widget-view+json": {
       "model_id": "ca7e4430b96946938a1bc08eea7fe11a",
       "version_major": 2,
       "version_minor": 0
      },
      "text/plain": [
       "WebGuiWidget(layout=Layout(height='500px', width='100%'), value={'gui_settings': {}, 'ngsolve_version': '6.2.2…"
      ]
     },
     "metadata": {},
     "output_type": "display_data"
    }
   ],
   "source": [
    "u.Set(myfunc)\n",
    "gradu = grad(u)\n",
    "Draw(gradu, mesh, vectors={\"grid_size\":30});"
   ]
  },
  {
   "cell_type": "code",
   "execution_count": 59,
   "metadata": {},
   "outputs": [],
   "source": [
    "myfunc_compiled = myfunc.Compile()"
   ]
  },
  {
   "cell_type": "code",
   "execution_count": 60,
   "metadata": {},
   "outputs": [
    {
     "name": "stdout",
     "output_type": "stream",
     "text": [
      "coef binary operation '*', real\n",
      "  coef coordinate x, real\n",
      "  coef binary operation '-', real\n",
      "    coef 1, real\n",
      "    coef coordinate x, real\n",
      "\n"
     ]
    }
   ],
   "source": [
    "print(myfunc)"
   ]
  },
  {
   "cell_type": "code",
   "execution_count": 61,
   "metadata": {},
   "outputs": [
    {
     "name": "stdout",
     "output_type": "stream",
     "text": [
      "Compiled CF:\n",
      "Step 0: coordinate x\n",
      "Step 1: 1\n",
      "Step 2: binary operation '-'\n",
      "     input: 1 0 \n",
      "Step 3: binary operation '*'\n",
      "     input: 0 2 \n",
      "\n"
     ]
    }
   ],
   "source": [
    "print(myfunc_compiled)"
   ]
  },
  {
   "cell_type": "code",
   "execution_count": 62,
   "metadata": {},
   "outputs": [
    {
     "data": {
      "application/vnd.jupyter.widget-view+json": {
       "model_id": "0d33093e6cc04ba98f623b711df05259",
       "version_major": 2,
       "version_minor": 0
      },
      "text/plain": [
       "WebGuiWidget(layout=Layout(height='500px', width='100%'), value={'gui_settings': {}, 'ngsolve_version': '6.2.2…"
      ]
     },
     "metadata": {},
     "output_type": "display_data"
    },
    {
     "data": {
      "text/plain": [
       "BaseWebGuiScene"
      ]
     },
     "execution_count": 62,
     "metadata": {},
     "output_type": "execute_result"
    }
   ],
   "source": [
    "Draw(mesh)"
   ]
  },
  {
   "cell_type": "code",
   "execution_count": 80,
   "metadata": {},
   "outputs": [
    {
     "data": {
      "text/plain": [
       "('bottom', 'right', 'top', 'left')"
      ]
     },
     "execution_count": 80,
     "metadata": {},
     "output_type": "execute_result"
    }
   ],
   "source": [
    "mesh.GetBoundaries()"
   ]
  },
  {
   "cell_type": "code",
   "execution_count": 81,
   "metadata": {},
   "outputs": [],
   "source": [
    "fes = H1(mesh, order=2, dirichlet=\"left|right\")"
   ]
  },
  {
   "cell_type": "code",
   "execution_count": 82,
   "metadata": {},
   "outputs": [],
   "source": [
    "fes2 = H1(mesh, order=2)"
   ]
  },
  {
   "cell_type": "code",
   "execution_count": 83,
   "metadata": {},
   "outputs": [
    {
     "name": "stdout",
     "output_type": "stream",
     "text": [
      "0: 11111111111111111111111111111111111111111111111111\n",
      "50: 11111111111111111111111111111111111111111111111111\n",
      "100: 111111111111111111111111111111111\n",
      "0: 00001111000011110000111111111111111111110101011011\n",
      "50: 11111111110110110111111111111111011011011111111111\n",
      "100: 111111111111111111111111111111111\n"
     ]
    }
   ],
   "source": [
    "print(fes2.FreeDofs())\n",
    "print(fes.FreeDofs())"
   ]
  },
  {
   "cell_type": "code",
   "execution_count": 84,
   "metadata": {},
   "outputs": [],
   "source": [
    "g = sin(y)"
   ]
  },
  {
   "cell_type": "code",
   "execution_count": 88,
   "metadata": {},
   "outputs": [],
   "source": [
    "gfu = GridFunction(fes)\n",
    "gfu.Set(g, BND)"
   ]
  },
  {
   "cell_type": "code",
   "execution_count": 89,
   "metadata": {},
   "outputs": [
    {
     "data": {
      "application/vnd.jupyter.widget-view+json": {
       "model_id": "a7219f93bd79456abacb620b16084029",
       "version_major": 2,
       "version_minor": 0
      },
      "text/plain": [
       "WebGuiWidget(layout=Layout(height='500px', width='100%'), value={'gui_settings': {}, 'ngsolve_version': '6.2.2…"
      ]
     },
     "metadata": {},
     "output_type": "display_data"
    },
    {
     "data": {
      "text/plain": [
       "BaseWebGuiScene"
      ]
     },
     "execution_count": 89,
     "metadata": {},
     "output_type": "execute_result"
    }
   ],
   "source": [
    "Draw(gfu)"
   ]
  },
  {
   "cell_type": "code",
   "execution_count": 90,
   "metadata": {},
   "outputs": [],
   "source": [
    "u, v = fes.TnT()\n",
    "a = BilinearForm(grad(u)*grad(v)*dx).Assemble()"
   ]
  },
  {
   "cell_type": "code",
   "execution_count": 95,
   "metadata": {},
   "outputs": [],
   "source": [
    "f = LinearForm(v*dx).Assemble()\n",
    "r = f.vec - a.mat * gfu.vec"
   ]
  },
  {
   "cell_type": "code",
   "execution_count": 100,
   "metadata": {},
   "outputs": [],
   "source": [
    "# What is the initial values of u,v"
   ]
  },
  {
   "cell_type": "code",
   "execution_count": 103,
   "metadata": {},
   "outputs": [],
   "source": [
    "gfu.vec.data += a.mat.Inverse(freedofs = fes.FreeDofs()) * r"
   ]
  },
  {
   "cell_type": "code",
   "execution_count": 104,
   "metadata": {},
   "outputs": [
    {
     "data": {
      "application/vnd.jupyter.widget-view+json": {
       "model_id": "4592d60d22374dc88f32baf2074fde76",
       "version_major": 2,
       "version_minor": 0
      },
      "text/plain": [
       "WebGuiWidget(layout=Layout(height='500px', width='100%'), value={'gui_settings': {}, 'ngsolve_version': '6.2.2…"
      ]
     },
     "metadata": {},
     "output_type": "display_data"
    },
    {
     "data": {
      "text/plain": [
       "BaseWebGuiScene"
      ]
     },
     "execution_count": 104,
     "metadata": {},
     "output_type": "execute_result"
    }
   ],
   "source": [
    "Draw(gfu)"
   ]
  },
  {
   "cell_type": "code",
   "execution_count": null,
   "metadata": {},
   "outputs": [],
   "source": []
  }
 ],
 "metadata": {
  "kernelspec": {
   "display_name": "Python 3",
   "language": "python",
   "name": "python3"
  },
  "language_info": {
   "codemirror_mode": {
    "name": "ipython",
    "version": 3
   },
   "file_extension": ".py",
   "mimetype": "text/x-python",
   "name": "python",
   "nbconvert_exporter": "python",
   "pygments_lexer": "ipython3",
   "version": "3.11.6"
  }
 },
 "nbformat": 4,
 "nbformat_minor": 2
}
