{
 "cells": [
  {
   "cell_type": "markdown",
   "metadata": {},
   "source": [
    "We note"
   ]
  },
  {
   "cell_type": "markdown",
   "metadata": {},
   "source": [
    "$u(-x, y) = u(x, y) \\Rightarrow \\partial_x u |_{x=0} = 0$\n",
    "\n",
    "$u(x, -y) = -u(x, y) \\Rightarrow u(x, 0) = 0$\n"
   ]
  },
  {
   "cell_type": "markdown",
   "metadata": {},
   "source": [
    "Hence the new problem"
   ]
  },
  {
   "cell_type": "markdown",
   "metadata": {},
   "source": [
    "\\begin{cases}\n",
    "-\\epsilon_0 \\Delta u = 0 \\quad in \\quad \\Omega \\\\\n",
    "u = 1  \\quad on \\quad \\Gamma_{el.1}\\\\\n",
    "u=0  \\quad on  \\quad\\Gamma_{b} \\\\\n",
    "\\partial_n u = 0 \\quad on \\quad \\Gamma_{l}\\cup\\Gamma_{t}\\cup\\Gamma_{r}\n",
    "\\end{cases}\n"
   ]
  },
  {
   "cell_type": "markdown",
   "metadata": {},
   "source": [
    "$\\Omega = (0,5) \\times (0,5) - \\Omega_{el.1}$ \n",
    "\n",
    "\n",
    "$\\Omega_{el.1} = (0, 0.4) \\times (0.3, 0.4)$"
   ]
  },
  {
   "cell_type": "code",
   "execution_count": 1,
   "metadata": {},
   "outputs": [],
   "source": [
    "from ngsolve import *\n",
    "from ngsolve.webgui import Draw\n",
    "from netgen.occ import *\n",
    "from netgen.csg import *\n",
    "import numpy as np\n",
    "import matplotlib.pyplot as plt\n",
    "e0 =  8.854e-12"
   ]
  },
  {
   "cell_type": "code",
   "execution_count": 43,
   "metadata": {},
   "outputs": [],
   "source": [
    "outer = Rectangle(5, 5).Face()\n",
    "outer.edges.Max(X).name = \"r\"\n",
    "outer.edges.Min(X).name = \"l\"\n",
    "outer.edges.Min(Y).name = \"b\"\n",
    "outer.edges.Max(Y).name = \"t\"\n",
    "\n",
    "\n",
    "electrode = MoveTo(0,0.3).Rectangle(0.4, 0.1).Face()\n",
    "electrode.edges.name=\"inner\"\n",
    "electrode.col = (1,0,0)\n",
    "\n",
    "\n",
    "geo = Glue([outer, electrode])\n"
   ]
  },
  {
   "cell_type": "code",
   "execution_count": 48,
   "metadata": {},
   "outputs": [],
   "source": [
    "mesh = Mesh(OCCGeometry(geo, dim=2).GenerateMesh(maxh=0.05))\n",
    "fes = H1(mesh, order =2, dirichlet=\"inner|b\")\n",
    "\n",
    "u, v = fes.TnT()\n",
    "gfu = GridFunction(fes)\n",
    "\n",
    "bdry_values = {'inner':1}\n",
    "gfu.Set(mesh.BoundaryCF(bdry_values), definedon=mesh.Boundaries(\"inner|b\"))\n",
    "\n",
    "a = BilinearForm(fes)\n",
    "a += e0*grad(u)*grad(v)*dx\n",
    "a.Assemble()\n",
    "\n",
    "r = - a.mat * gfu.vec\n",
    "gfu.vec.data += a.mat.Inverse(freedofs=fes.FreeDofs()) * r\n",
    "E = -grad(gfu)"
   ]
  },
  {
   "cell_type": "code",
   "execution_count": 49,
   "metadata": {},
   "outputs": [
    {
     "data": {
      "application/vnd.jupyter.widget-view+json": {
       "model_id": "2603f0fed4f84cd983ad389a0cae46b7",
       "version_major": 2,
       "version_minor": 0
      },
      "text/plain": [
       "WebGuiWidget(layout=Layout(height='500px', width='100%'), value={'gui_settings': {}, 'ngsolve_version': '6.2.2…"
      ]
     },
     "metadata": {},
     "output_type": "display_data"
    },
    {
     "data": {
      "text/plain": [
       "BaseWebGuiScene"
      ]
     },
     "execution_count": 49,
     "metadata": {},
     "output_type": "execute_result"
    }
   ],
   "source": [
    "Draw(gfu, mesh, vectors=True)"
   ]
  },
  {
   "cell_type": "code",
   "execution_count": 50,
   "metadata": {},
   "outputs": [],
   "source": [
    "def calc_energy(E, mesh):\n",
    "    energy_density = 0.5*e0*InnerProduct(E,E)\n",
    "    energy = Integrate(energy_density, mesh)\n",
    "    return energy\n",
    "\n",
    "en = calc_energy(E, mesh)"
   ]
  },
  {
   "cell_type": "code",
   "execution_count": null,
   "metadata": {},
   "outputs": [],
   "source": []
  },
  {
   "cell_type": "markdown",
   "metadata": {},
   "source": [
    "From the previous exercise we found that the energy is approximately 4.8e-11 J (since we are in S.I)"
   ]
  },
  {
   "cell_type": "code",
   "execution_count": 51,
   "metadata": {},
   "outputs": [
    {
     "data": {
      "text/plain": [
       "4.78189884092603e-11"
      ]
     },
     "execution_count": 51,
     "metadata": {},
     "output_type": "execute_result"
    }
   ],
   "source": [
    "4*en"
   ]
  },
  {
   "cell_type": "markdown",
   "metadata": {},
   "source": [
    "Same here"
   ]
  }
 ],
 "metadata": {
  "kernelspec": {
   "display_name": "Python 3",
   "language": "python",
   "name": "python3"
  },
  "language_info": {
   "codemirror_mode": {
    "name": "ipython",
    "version": 3
   },
   "file_extension": ".py",
   "mimetype": "text/x-python",
   "name": "python",
   "nbconvert_exporter": "python",
   "pygments_lexer": "ipython3",
   "version": "3.11.6"
  }
 },
 "nbformat": 4,
 "nbformat_minor": 2
}
