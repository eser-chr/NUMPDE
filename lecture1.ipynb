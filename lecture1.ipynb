{
 "cells": [
  {
   "cell_type": "code",
   "execution_count": 17,
   "metadata": {},
   "outputs": [
    {
     "data": {
      "application/vnd.jupyter.widget-view+json": {
       "model_id": "272fad56c30a46b3bddf48b08043b0bb",
       "version_major": 2,
       "version_minor": 0
      },
      "text/plain": [
       "WebGuiWidget(layout=Layout(height='500px', width='100%'), value={'ngsolve_version': 'Netgen x.x', 'mesh_dim': …"
      ]
     },
     "metadata": {},
     "output_type": "display_data"
    }
   ],
   "source": [
    "from ngsolve import *\n",
    "from ngsolve.webgui import Draw\n",
    "Draw (unit_cube.shape);\n"
   ]
  },
  {
   "cell_type": "code",
   "execution_count": 19,
   "metadata": {},
   "outputs": [
    {
     "data": {
      "application/vnd.jupyter.widget-view+json": {
       "model_id": "6bf9c38fc99041bbb28cb27ed2317a59",
       "version_major": 2,
       "version_minor": 0
      },
      "text/plain": [
       "WebGuiWidget(layout=Layout(height='500px', width='100%'), value={'gui_settings': {}, 'ngsolve_version': '6.2.2…"
      ]
     },
     "metadata": {},
     "output_type": "display_data"
    }
   ],
   "source": [
    "mesh = Mesh(unit_square.GenerateMesh(maxh=0.3))\n",
    "Draw (mesh);"
   ]
  },
  {
   "cell_type": "code",
   "execution_count": 20,
   "metadata": {},
   "outputs": [
    {
     "name": "stdout",
     "output_type": "stream",
     "text": [
      "19 24\n"
     ]
    }
   ],
   "source": [
    "print(mesh.nv, mesh.ne)"
   ]
  },
  {
   "cell_type": "code",
   "execution_count": 21,
   "metadata": {},
   "outputs": [
    {
     "name": "stdout",
     "output_type": "stream",
     "text": [
      "number of dofs = 127\n"
     ]
    }
   ],
   "source": [
    "fes = H1(mesh, order=3, dirichlet=\".*\")\n",
    "print (\"number of dofs =\", fes.ndof)"
   ]
  },
  {
   "cell_type": "code",
   "execution_count": 22,
   "metadata": {},
   "outputs": [],
   "source": [
    "u = fes.TrialFunction()\n",
    "v = fes.TestFunction()\n",
    "a = BilinearForm(grad(u)*grad(v)*dx)"
   ]
  },
  {
   "cell_type": "code",
   "execution_count": 23,
   "metadata": {},
   "outputs": [
    {
     "name": "stdout",
     "output_type": "stream",
     "text": [
      "coef trial-function diffop = Id, real\n",
      " coef test-function diffop = Id, real\n",
      " on space H1HighOrderFESpace(h1ho)\n",
      "symmetric   = 0\n",
      "multilevel  = 1\n",
      "nonassemble = 0\n",
      "printelmat = 0\n",
      "elmatev    = 0\n",
      "eliminate_internal = 0\n",
      "eliminate_hidden = 0\n",
      "keep_internal = 0\n",
      "store_inner = 0\n",
      "integrators: \n",
      "  Symbolic BFI\n",
      "\n"
     ]
    }
   ],
   "source": [
    "print(u, v, a)"
   ]
  },
  {
   "cell_type": "code",
   "execution_count": 24,
   "metadata": {},
   "outputs": [
    {
     "name": "stdout",
     "output_type": "stream",
     "text": [
      "on space H1HighOrderFESpace(h1ho)\n",
      "symmetric   = 0\n",
      "multilevel  = 1\n",
      "nonassemble = 0\n",
      "printelmat = 0\n",
      "elmatev    = 0\n",
      "eliminate_internal = 0\n",
      "eliminate_hidden = 0\n",
      "keep_internal = 0\n",
      "store_inner = 0\n",
      "integrators: \n",
      "  Symbolic BFI\n",
      "\n"
     ]
    }
   ],
   "source": [
    "print(a)"
   ]
  },
  {
   "cell_type": "code",
   "execution_count": 25,
   "metadata": {},
   "outputs": [],
   "source": [
    "funcf = 50*x*y\n",
    "f = LinearForm(funcf*v*dx)"
   ]
  },
  {
   "cell_type": "code",
   "execution_count": 26,
   "metadata": {},
   "outputs": [],
   "source": [
    "a.Assemble()\n",
    "f.Assemble();"
   ]
  },
  {
   "cell_type": "code",
   "execution_count": 27,
   "metadata": {},
   "outputs": [
    {
     "name": "stdout",
     "output_type": "stream",
     "text": [
      "on space H1HighOrderFESpace(h1ho)\n",
      "symmetric   = 0\n",
      "multilevel  = 1\n",
      "nonassemble = 0\n",
      "printelmat = 0\n",
      "elmatev    = 0\n",
      "eliminate_internal = 0\n",
      "eliminate_hidden = 0\n",
      "keep_internal = 0\n",
      "store_inner = 0\n",
      "integrators: \n",
      "  Symbolic BFI\n",
      "\n"
     ]
    }
   ],
   "source": [
    "print(a)"
   ]
  },
  {
   "cell_type": "code",
   "execution_count": 28,
   "metadata": {},
   "outputs": [
    {
     "data": {
      "application/vnd.jupyter.widget-view+json": {
       "model_id": "a23e91d4c6354d18b1db211e842884c0",
       "version_major": 2,
       "version_minor": 0
      },
      "text/plain": [
       "WebGuiWidget(layout=Layout(height='500px', width='100%'), value={'gui_settings': {}, 'ngsolve_version': '6.2.2…"
      ]
     },
     "metadata": {},
     "output_type": "display_data"
    }
   ],
   "source": [
    "gfu = GridFunction(fes)\n",
    "gfu.vec.data = a.mat.Inverse(freedofs=fes.FreeDofs()) * f.vec\n",
    "Draw (gfu);"
   ]
  },
  {
   "cell_type": "code",
   "execution_count": 29,
   "metadata": {},
   "outputs": [
    {
     "data": {
      "application/vnd.jupyter.widget-view+json": {
       "model_id": "022908fb575e4271b44c0c78c482bcf9",
       "version_major": 2,
       "version_minor": 0
      },
      "text/plain": [
       "WebGuiWidget(layout=Layout(height='500px', width='100%'), value={'gui_settings': {}, 'ngsolve_version': '6.2.2…"
      ]
     },
     "metadata": {},
     "output_type": "display_data"
    }
   ],
   "source": [
    "Draw (grad(gfu), mesh, order=3, vectors = True);"
   ]
  },
  {
   "cell_type": "code",
   "execution_count": 30,
   "metadata": {},
   "outputs": [
    {
     "name": "stdout",
     "output_type": "stream",
     "text": [
      "  (0, 0)\t0.9999999999999961\n",
      "  (0, 4)\t-0.4999999999999982\n",
      "  (0, 11)\t-0.499999999999998\n",
      "  (0, 19)\t-0.08333333333333302\n",
      "  (0, 20)\t-2.740863092043355e-16\n",
      "  (0, 21)\t-0.08333333333333291\n",
      "  (0, 22)\t-3.2916377956659915e-16\n",
      "  (0, 43)\t0.16666666666666602\n",
      "  (0, 44)\t-4.5102810375396984e-17\n",
      "  (0, 103)\t-5.204170427930421e-17\n",
      "  (1, 1)\t0.8713670771729024\n",
      "  (1, 5)\t-0.34961598019363593\n",
      "  (1, 6)\t-0.3317894364132108\n",
      "  (1, 13)\t-0.18996166056605568\n",
      "  (1, 23)\t-0.01960719148457504\n",
      "  (1, 24)\t-1.8019440106709084e-16\n",
      "  (1, 25)\t-0.012053085276434176\n",
      "  (1, 26)\t-1.3530843112619095e-16\n",
      "  (1, 27)\t-0.11356756943447444\n",
      "  (1, 28)\t-2.0036056147532122e-16\n",
      "  (1, 51)\t0.07787652151684776\n",
      "  (1, 52)\t7.632783294297951e-17\n",
      "  (1, 55)\t0.06735132467863594\n",
      "  (1, 56)\t4.163336342344337e-17\n",
      "  (1, 105)\t-3.729655473350135e-17\n",
      "  :\t:\n",
      "  (124, 47)\t-0.004077718640023362\n",
      "  (124, 48)\t0.0035090671595254842\n",
      "  (124, 77)\t-0.01185254636201703\n",
      "  (124, 78)\t0.000917457918860947\n",
      "  (124, 124)\t0.01150373992365394\n",
      "  (125, 16)\t-1.734723475976807e-17\n",
      "  (125, 17)\t-4.5102810375396984e-17\n",
      "  (125, 18)\t6.938893903907228e-17\n",
      "  (125, 97)\t-0.004207359982854019\n",
      "  (125, 98)\t0.0009814373515229053\n",
      "  (125, 99)\t-0.0037710694658220963\n",
      "  (125, 100)\t0.000836007179178934\n",
      "  (125, 101)\t-0.006715381520390823\n",
      "  (125, 102)\t-0.0001454301723439774\n",
      "  (125, 125)\t0.009795873979377947\n",
      "  (126, 12)\t-2.2551405187698492e-17\n",
      "  (126, 17)\t6.071532165918825e-17\n",
      "  (126, 18)\t-3.8163916471489756e-17\n",
      "  (126, 81)\t-0.0036899239264529564\n",
      "  (126, 82)\t0.00029122684262810966\n",
      "  (126, 83)\t-0.004997424126581635\n",
      "  (126, 84)\t0.0007270602426710003\n",
      "  (126, 101)\t-0.005871104654465965\n",
      "  (126, 102)\t0.000435833400042895\n",
      "  (126, 126)\t0.009705635138333694\n"
     ]
    }
   ],
   "source": [
    "# (i,j,val) = a.mat.COO()\n",
    "# print (list(i),list(j),list(val))\n",
    "# print (a.mat)\n",
    "from scipy.sparse import csr_matrix\n",
    "print (csr_matrix(a.mat.CSR()))"
   ]
  },
  {
   "cell_type": "code",
   "execution_count": 32,
   "metadata": {},
   "outputs": [
    {
     "name": "stdout",
     "output_type": "stream",
     "text": [
      "[ 5.14403292e-03  1.56323606e-01  1.27289226e+00  1.47048061e-01\n",
      "  1.12178596e-01  1.16283801e-01  7.65267844e-01  8.54879601e-01\n",
      "  1.31042127e+00  5.87348568e-01  1.16891038e-01  6.72850472e-02\n",
      "  3.62122018e-01  9.09995998e-01  2.54239151e+00  1.10846086e+00\n",
      "  7.05830628e-01  4.32909953e-01  9.26325306e-01 -8.57338820e-04\n",
      " -1.22476974e-04 -8.57338820e-04 -1.22476974e-04 -4.84576887e-03\n",
      "  9.60348951e-05 -1.66128106e-02 -1.95939023e-03 -2.47934035e-02\n",
      " -2.78296890e-03 -6.50891474e-02  1.83432623e-03 -8.95802894e-02\n",
      "  2.48355155e-03 -1.46723561e-01  6.75169331e-03 -1.67232882e-02\n",
      " -2.02543845e-03 -4.03483043e-03  8.02732089e-05 -2.27581460e-02\n",
      " -2.43535256e-03 -2.08384816e-03 -6.62307104e-05 -6.22952406e-03\n",
      "  6.25385737e-05 -1.03560331e-02 -1.48013228e-03 -1.31563304e-02\n",
      " -1.47080442e-03 -1.10460510e-02 -1.23190638e-03 -1.68447179e-02\n",
      " -2.53224441e-03 -4.32110818e-02 -1.83432623e-03 -5.29211492e-02\n",
      "  1.49856903e-03 -7.94280300e-02 -2.04938067e-03 -1.02539113e-01\n",
      "  1.91776159e-03 -3.59479238e-02  1.61363057e-03 -1.19594123e-01\n",
      "  2.20845667e-03 -7.64547136e-02  2.67020272e-03 -5.34611026e-02\n",
      " -5.75112477e-04 -3.88786059e-02  1.41547750e-03 -2.22055018e-03\n",
      "  7.43405272e-05 -1.62955289e-02 -2.34803962e-03 -1.22488474e-02\n",
      " -1.27137671e-03 -1.01474252e-02 -1.50711119e-03 -2.25062327e-02\n",
      " -8.71406242e-04 -1.94790165e-02  8.75035513e-05 -2.63065618e-02\n",
      " -1.32018694e-03 -6.70828267e-02 -3.62016972e-03 -4.27397309e-02\n",
      " -4.90707045e-04 -6.52080013e-02  9.83303755e-04 -5.77012568e-02\n",
      "  2.45422658e-03 -3.81585249e-02  1.72720586e-03 -4.41488290e-02\n",
      "  1.17055985e-03 -2.41741161e-02  9.21118189e-04 -3.35151548e-02\n",
      " -6.36842838e-04 -2.67342937e-02 -1.53017346e-03  4.89907897e-04\n",
      "  1.38877131e-03  3.19316722e-03  3.16923091e-03  6.96345624e-03\n",
      "  1.73565717e-02  1.42484407e-02  3.36640301e-02  1.39740392e-02\n",
      "  6.89953965e-03  7.90519732e-03  2.65569399e-03  2.93887989e-03\n",
      "  1.45728556e-03  3.60677640e-03  2.44261782e-02  1.58398436e-02\n",
      "  1.03709219e-02  1.21129116e-02  7.44679652e-03  5.63342129e-03\n",
      "  2.32035755e-03  5.90148599e-03  4.71190535e-03]\n"
     ]
    }
   ],
   "source": [
    "import numpy as np\n",
    "f_vec = np.array(f.vec)\n",
    "print(f_vec)"
   ]
  },
  {
   "cell_type": "code",
   "execution_count": 33,
   "metadata": {},
   "outputs": [
    {
     "data": {
      "text/plain": [
       "127"
      ]
     },
     "execution_count": 33,
     "metadata": {},
     "output_type": "execute_result"
    }
   ],
   "source": [
    "len(f_vec)"
   ]
  },
  {
   "cell_type": "code",
   "execution_count": 35,
   "metadata": {},
   "outputs": [
    {
     "name": "stdout",
     "output_type": "stream",
     "text": [
      "[ 0.00000000e+00  0.00000000e+00  0.00000000e+00  0.00000000e+00\n",
      "  0.00000000e+00  0.00000000e+00  0.00000000e+00  0.00000000e+00\n",
      "  0.00000000e+00  0.00000000e+00  0.00000000e+00  0.00000000e+00\n",
      "  5.28263040e-01  6.04966954e-01  9.75833632e-01  8.44426675e-01\n",
      "  5.65499294e-01  5.06332486e-01  9.46269805e-01  0.00000000e+00\n",
      "  0.00000000e+00  0.00000000e+00  0.00000000e+00  0.00000000e+00\n",
      "  0.00000000e+00  0.00000000e+00  0.00000000e+00  7.60768641e-01\n",
      " -4.31105928e-01  0.00000000e+00  0.00000000e+00  0.00000000e+00\n",
      "  0.00000000e+00 -4.64321857e-01 -1.02072391e+00  0.00000000e+00\n",
      "  0.00000000e+00  0.00000000e+00  0.00000000e+00  7.04996867e-01\n",
      " -4.05538535e-01  0.00000000e+00  0.00000000e+00 -1.19065913e+00\n",
      "  1.59866275e-03  1.46926057e-01 -7.14057092e-02 -5.23370546e-01\n",
      " -7.52246385e-02 -1.73704722e-01 -8.81075613e-02 -2.08531208e-01\n",
      " -4.82124963e-02  0.00000000e+00  0.00000000e+00 -9.94223273e-01\n",
      "  1.26344611e-01 -7.90119080e-01 -5.46822694e-01 -1.42082564e+00\n",
      "  1.93293256e-01  0.00000000e+00  0.00000000e+00 -2.54145518e+00\n",
      "  4.52535012e-01 -1.29548271e+00  1.32926978e-01 -3.75464148e-01\n",
      " -1.47473392e-01 -1.10992834e+00  1.63116807e-01  0.00000000e+00\n",
      "  0.00000000e+00 -1.57122519e-01 -3.58356469e-02 -3.56697904e-01\n",
      " -1.49680279e-01  8.12151778e-02 -4.02048239e-02 -3.39679755e-01\n",
      " -6.21092102e-02 -5.17743672e-01 -4.57265164e-03 -3.24006575e-01\n",
      " -5.74338837e-02 -7.05106917e-01 -1.43270077e-01 -6.85428872e-01\n",
      " -8.79752365e-02 -8.22743012e-01  1.28015841e-01 -7.12676890e-01\n",
      "  9.51724682e-02 -2.88967085e-01  2.49758654e-02 -7.03630964e-01\n",
      "  9.23205986e-02 -4.71662143e-01  7.42069270e-02 -5.61438627e-01\n",
      " -9.35026704e-02 -2.00878252e-01 -5.98520814e-02  4.40917108e-02\n",
      "  1.41759000e-01  3.25081121e-01 -6.37742673e-02 -6.16538220e-02\n",
      "  2.38883654e-01 -1.64695328e-01  1.75810288e+00  2.99147381e-01\n",
      " -2.82457855e-02  7.94723656e-03  2.93324340e-01  1.20659194e-02\n",
      "  1.21801998e-01 -8.87014954e-02  8.87028570e-01 -3.13062424e-01\n",
      " -5.35709450e-02  1.68054693e-01  1.78690176e-02 -4.10939382e-02\n",
      " -1.15193989e-02  4.56794927e-02  7.42560080e-03]\n"
     ]
    }
   ],
   "source": [
    "print (np.array(gfu.vec))"
   ]
  },
  {
   "cell_type": "code",
   "execution_count": 38,
   "metadata": {},
   "outputs": [
    {
     "name": "stdout",
     "output_type": "stream",
     "text": [
      "dofs on edge #40:  (39, 40)\n"
     ]
    },
    {
     "data": {
      "application/vnd.jupyter.widget-view+json": {
       "model_id": "97ff1f862c184d0186f42fddc65d1ee4",
       "version_major": 2,
       "version_minor": 0
      },
      "text/plain": [
       "WebGuiWidget(layout=Layout(height='500px', width='100%'), value={'gui_settings': {}, 'ngsolve_version': '6.2.2…"
      ]
     },
     "metadata": {},
     "output_type": "display_data"
    },
    {
     "data": {
      "application/vnd.jupyter.widget-view+json": {
       "model_id": "b03bc797dd75426399f36a7940e1fe0d",
       "version_major": 2,
       "version_minor": 0
      },
      "text/plain": [
       "WebGuiWidget(layout=Layout(height='500px', width='100%'), value={'gui_settings': {}, 'ngsolve_version': '6.2.2…"
      ]
     },
     "metadata": {},
     "output_type": "display_data"
    }
   ],
   "source": [
    "edgedofs = fes.GetDofNrs(NodeId(EDGE,10))\n",
    "print (\"dofs on edge #40: \", edgedofs)\n",
    "\n",
    "gf = GridFunction(fes)\n",
    "for edof in edgedofs:\n",
    "    gf.vec[:] = 0\n",
    "    gf.vec[edof] = 1\n",
    "    Draw (-3*gf, mesh, deformation=True, order=3)"
   ]
  },
  {
   "cell_type": "code",
   "execution_count": 39,
   "metadata": {},
   "outputs": [],
   "source": [
    "a = np.array([1,2,3])"
   ]
  },
  {
   "cell_type": "code",
   "execution_count": 40,
   "metadata": {},
   "outputs": [
    {
     "data": {
      "text/plain": [
       "6"
      ]
     },
     "execution_count": 40,
     "metadata": {},
     "output_type": "execute_result"
    }
   ],
   "source": [
    "eval(\"a.sum()\")"
   ]
  },
  {
   "cell_type": "code",
   "execution_count": null,
   "metadata": {},
   "outputs": [],
   "source": []
  }
 ],
 "metadata": {
  "kernelspec": {
   "display_name": "Python 3",
   "language": "python",
   "name": "python3"
  },
  "language_info": {
   "codemirror_mode": {
    "name": "ipython",
    "version": 3
   },
   "file_extension": ".py",
   "mimetype": "text/x-python",
   "name": "python",
   "nbconvert_exporter": "python",
   "pygments_lexer": "ipython3",
   "version": "3.11.6"
  }
 },
 "nbformat": 4,
 "nbformat_minor": 2
}
