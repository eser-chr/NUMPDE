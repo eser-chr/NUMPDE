{
 "cells": [
  {
   "cell_type": "markdown",
   "metadata": {},
   "source": [
    "We start by noting \n",
    "\n",
    "$v(0) = \\sum a_k$\n",
    "\n",
    "and \n",
    "\n",
    "$||v||_{H^s} = \\sqrt{\\sum (1+k^2)^s a^2_k}$"
   ]
  },
  {
   "cell_type": "markdown",
   "metadata": {},
   "source": [
    "and thus\n",
    "\n",
    "to prove that $f$ is bounded we have to show that the series converge"
   ]
  },
  {
   "cell_type": "markdown",
   "metadata": {},
   "source": []
  },
  {
   "cell_type": "markdown",
   "metadata": {},
   "source": [
    "Then \n",
    "\n",
    "$|v(0)|^2 \\leq |\\sum \\left(\\frac{1}{1+k^2}\\right)^{s/2}(1+k^2)^{s/2}a_k| $\n",
    "\n",
    "$\\leq \\sum\\frac{1}{(1+k^2)^{s}} \\sum (1+k^2)^{s}a_k^2$"
   ]
  },
  {
   "cell_type": "markdown",
   "metadata": {},
   "source": [
    "In the right part of rhs we have the $H^s$ norm, which converges always\n",
    "\n",
    "since $s<1$ and $v \\in H^1$"
   ]
  },
  {
   "cell_type": "markdown",
   "metadata": {},
   "source": [
    "Thus in order for $v(0)$ to be bounded we have to look at the first term\n",
    "\n",
    "$\\sum\\frac{1}{(1+k^2)^{s}}$"
   ]
  },
  {
   "cell_type": "markdown",
   "metadata": {},
   "source": [
    "It is known that this sum converges only if the power is bigger than 1.\n",
    "\n",
    "Meaning that $s>\\frac{1}{2}$"
   ]
  },
  {
   "cell_type": "markdown",
   "metadata": {},
   "source": [
    "Because of this f belongs to $H^s, \\quad s>\\frac{1}{2}$."
   ]
  },
  {
   "cell_type": "markdown",
   "metadata": {},
   "source": [
    "We can also use the same claim to show that $v(0)$ is unbound for $s<\\frac{1}{2}$\n",
    "\n",
    "and thus f cannot be extended to $H^s$."
   ]
  },
  {
   "cell_type": "markdown",
   "metadata": {},
   "source": []
  },
  {
   "cell_type": "markdown",
   "metadata": {},
   "source": []
  },
  {
   "cell_type": "markdown",
   "metadata": {},
   "source": []
  },
  {
   "cell_type": "code",
   "execution_count": null,
   "metadata": {},
   "outputs": [],
   "source": []
  }
 ],
 "metadata": {
  "language_info": {
   "name": "python"
  }
 },
 "nbformat": 4,
 "nbformat_minor": 2
}
