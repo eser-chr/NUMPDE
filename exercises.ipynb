{
 "cells": [
  {
   "cell_type": "markdown",
   "id": "306f43b1-4e4a-490e-9211-3aa79d65f885",
   "metadata": {},
   "source": [
    "# Exercises"
   ]
  },
  {
   "cell_type": "markdown",
   "id": "5424d4f2-cd6c-4c1c-9c3d-e00dbc8741f3",
   "metadata": {},
   "source": [
    "## Get started with Netgen-Opencascade geometric modeling\n",
    "\n",
    "* Consult the documentation, Section 4.4: https://docu.ngsolve.org/latest/i-tutorials/index.html#Geometric-modeling-and-mesh-generation\n",
    "* Create some geometric models of your choice in 2D and 3D\n",
    "* Generate meshes\n",
    "* Give names to material and boundary regions. Execute `mesh.Materials()` and `mesh.Boundaries()` for verification."
   ]
  },
  {
   "cell_type": "markdown",
   "id": "97978e41",
   "metadata": {},
   "source": [
    "### Example in 2d\n",
    "Let's create a simple 2D geometry and mesh it. A rectangle with a circular hole in the middle.\n"
   ]
  },
  {
   "cell_type": "code",
   "execution_count": null,
   "id": "e28df44f",
   "metadata": {},
   "outputs": [],
   "source": [
    "from ngsolve import *\n",
    "from ngsolve.webgui import Draw\n",
    "\n",
    "# import occ\n",
    "from netgen.occ import *\n",
    "\n",
    "# concept of workplanes: \n",
    "rect = WorkPlane().Rectangle(1, 1)\n",
    "circ = WorkPlane().Circle(0.5, 0.5, 0.2)\n",
    "\n",
    "\n",
    "# difference of two shapes\n",
    "difference =  rect.Face() - circ.Face()\n",
    "\n",
    "# draw the difference\n",
    "Draw(difference)\n",
    "\n",
    "# set the maxh for the edge 1:\n",
    "difference.edges[1].maxh = 0.05\n",
    "\n",
    "\n",
    "# so far the shapes are defined as topological entities of occ. Now we need to pass internally to netgen geometries.\n",
    "geo = OCCGeometry(difference)\n",
    "\n",
    "# from netgen we can generate a mesh:\n",
    "mesh_2d = Mesh(geo.GenerateMesh(maxh=0.5))\n",
    "\n",
    "# set a curvature of the mesh:\n",
    "mesh_2d.Curve(3)\n",
    "\n",
    "# draw the mesh:\n",
    "Draw(mesh_2d)\n",
    "\n",
    "\n",
    "# some more operations :\n",
    "\n",
    "# difference = difference.Rotate(Axis((0,0,0),Z), 45)\n",
    "# difference = difference.Move((0.5,0.5,0))"
   ]
  },
  {
   "cell_type": "markdown",
   "id": "d1fb6025",
   "metadata": {},
   "source": [
    "### Exercise 1\n",
    "Reproduce the following geometry and mesh\n",
    "\n",
    "![alt text](example1_todo.png)\n",
    "\n",
    "\n"
   ]
  },
  {
   "cell_type": "code",
   "execution_count": null,
   "id": "bc0d96c0",
   "metadata": {},
   "outputs": [],
   "source": [
    "from ngsolve import *\n",
    "from ngsolve.webgui import Draw\n",
    "\n",
    "# import occ\n",
    "from netgen.occ import *\n",
    "\n",
    "# concept of workplanes: \n",
    "# rect = WorkPlane().Rectangle(1, 1)\n",
    "y_c = 0.5\n",
    "circ_a = WorkPlane().Circle(1.5, y_c, 0.5)\n",
    "circ_b = WorkPlane().Circle(1.5, y_c, 0.25)\n",
    "\n",
    "circ_c = WorkPlane().Circle(0.5,0.5, 0.2)\n",
    "rec = WorkPlane().Rectangle(1,1)\n",
    "\n",
    "down = rec.Face() - circ_c.Face()\n",
    "disk = circ_a.Face() - circ_b.Face()\n",
    "down = down.Rotate(Axis((0.5,0.5,0),Z), 45)\n",
    "total = disk + down\n",
    "total = total.Rotate(Axis((0.5, 0.5, 0),Z),90)\n",
    "\n",
    "# down = down.Rotate(Axis((0.5, 0.5, 0), Z), -45)\n",
    "\n",
    "Draw(total)\n",
    "\n",
    "\n",
    "# # difference of two shapes\n",
    "# difference =  rect.Face() - circ.Face()\n",
    "\n",
    "# # draw the difference\n",
    "# Draw(difference)\n",
    "\n",
    "# # set the maxh for the edge 1:\n",
    "# difference.edges[1].maxh = 0.05"
   ]
  },
  {
   "cell_type": "code",
   "execution_count": 135,
   "id": "0a4f74a6",
   "metadata": {},
   "outputs": [
    {
     "data": {
      "application/vnd.jupyter.widget-view+json": {
       "model_id": "cf0fd2d448024948add65dbe951141a4",
       "version_major": 2,
       "version_minor": 0
      },
      "text/plain": [
       "WebGuiWidget(layout=Layout(height='500px', width='100%'), value={'ngsolve_version': 'Netgen x.x', 'mesh_dim': …"
      ]
     },
     "metadata": {},
     "output_type": "display_data"
    },
    {
     "data": {
      "application/vnd.jupyter.widget-view+json": {
       "model_id": "0c4702ba4a13459e8db02f3d29fe6c80",
       "version_major": 2,
       "version_minor": 0
      },
      "text/plain": [
       "WebGuiWidget(layout=Layout(height='500px', width='100%'), value={'gui_settings': {}, 'ngsolve_version': '6.2.2…"
      ]
     },
     "metadata": {},
     "output_type": "display_data"
    },
    {
     "data": {
      "text/plain": [
       "BaseWebGuiScene"
      ]
     },
     "execution_count": 135,
     "metadata": {},
     "output_type": "execute_result"
    }
   ],
   "source": [
    "rec = WorkPlane().Rectangle(0.5,1).Face()\n",
    "rec = rec.Move((0.2, -0.5, 0))\n",
    "\n",
    "test = WorkPlane().Circle(0,0, 0.9).Face() - \\\n",
    "            WorkPlane().Circle(0,0, 0.7).Face() +\\\n",
    "            WorkPlane().Circle(0,0, 0.5).Face() - \\\n",
    "            WorkPlane().Circle(0,0, 0.3).Face() - \\\n",
    "            rec\n",
    "\n",
    "c_letter = WorkPlane().Circle(0,0, 0.5).Face() - \\\n",
    "            WorkPlane().Circle(0,0, 0.3).Face() - \\\n",
    "            rec\n",
    "\n",
    "\n",
    "hor_line = WorkPlane().Rectangle(0.4, 0.2).Face()\n",
    "hor_line_b = WorkPlane().Rectangle(0.4, 0.2).Face()\n",
    "\n",
    "hor_a = hor_line.Move((0, 0.5, 0 ))\n",
    "hor_b = hor_line_b.Move((0, 0, 0))\n",
    "hor_c = hor_line.Move((0,1,0))\n",
    "\n",
    "e_letter = WorkPlane().Rectangle(0.2,1).Face()+\\\n",
    "            hor_a + \\\n",
    "            hor_b + \\\n",
    "            hor_c\n",
    "\n",
    "\n",
    "e_letter = e_letter.Move((0.4, -0.5, 0))\n",
    "\n",
    "total = c_letter + e_letter\n",
    "Draw(total)\n",
    "\n",
    "\n",
    "geo = OCCGeometry(total)\n",
    "\n",
    "# from netgen we can generate a mesh:\n",
    "mesh = Mesh(geo.GenerateMesh(maxh=0.5))\n",
    "\n",
    "# set a curvature of the mesh:\n",
    "mesh.Curve(3)\n",
    "\n",
    "Draw(mesh)"
   ]
  },
  {
   "cell_type": "code",
   "execution_count": null,
   "id": "761b31fa",
   "metadata": {},
   "outputs": [],
   "source": [
    "# from netgen.geom2d import SplineGeometry\n",
    "# from netgen.meshing import Mesh as ngMesh\n",
    "\n",
    "# # Create a rectangular geometry\n",
    "# geo = SplineGeometry()\n",
    "# p1 = (0, 0)\n",
    "# p2 = (1, 0)\n",
    "# p3 = (1, 0.5)\n",
    "# p4 = (0, 0.5)\n",
    "\n",
    "# geo.AddRectangle(p1, p2, p3)\n",
    "\n",
    "# # Generate mesh from geometry\n",
    "# mesh = ngMesh(geo.GenerateMesh(maxh=0.1))\n",
    "\n",
    "# # Visualize or export the mesh as desired\n",
    "\n",
    "# Draw(geo.Face())"
   ]
  },
  {
   "cell_type": "code",
   "execution_count": null,
   "id": "4a233ac7",
   "metadata": {},
   "outputs": [],
   "source": []
  },
  {
   "cell_type": "markdown",
   "id": "9450ca61",
   "metadata": {},
   "source": [
    "### Example in 3d : Letters of the alphabet\n",
    "We will create a fancy 3D geometry of the initial letter of name and last name. In my case E & B. \n",
    "\n",
    "![alt text](EB_letters.png) \n",
    "\n",
    "the starting point of the figure is the coordinate (0,0,0) in direction X.\n",
    "\n",
    "for later purposes, we will move the initial point to (10,0,0). "
   ]
  },
  {
   "cell_type": "code",
   "execution_count": 124,
   "id": "1019a185",
   "metadata": {},
   "outputs": [
    {
     "data": {
      "application/vnd.jupyter.widget-view+json": {
       "model_id": "025974aa256f45809150f30784fe61a2",
       "version_major": 2,
       "version_minor": 0
      },
      "text/plain": [
       "WebGuiWidget(layout=Layout(height='500px', width='100%'), value={'ngsolve_version': 'Netgen x.x', 'mesh_dim': …"
      ]
     },
     "metadata": {},
     "output_type": "display_data"
    },
    {
     "data": {
      "application/vnd.jupyter.widget-view+json": {
       "model_id": "19b1f37725ba45439104767b2a6f58ca",
       "version_major": 2,
       "version_minor": 0
      },
      "text/plain": [
       "WebGuiWidget(layout=Layout(height='500px', width='100%'), value={'ngsolve_version': 'Netgen x.x', 'mesh_dim': …"
      ]
     },
     "metadata": {},
     "output_type": "display_data"
    },
    {
     "data": {
      "application/vnd.jupyter.widget-view+json": {
       "model_id": "65e911051967400ea25d43109b4a7801",
       "version_major": 2,
       "version_minor": 0
      },
      "text/plain": [
       "WebGuiWidget(layout=Layout(height='500px', width='100%'), value={'ngsolve_version': 'Netgen x.x', 'mesh_dim': …"
      ]
     },
     "metadata": {},
     "output_type": "display_data"
    },
    {
     "data": {
      "text/plain": [
       "BaseWebGuiScene"
      ]
     },
     "execution_count": 124,
     "metadata": {},
     "output_type": "execute_result"
    }
   ],
   "source": [
    "# use OCC geometry to write the initials of name and last name\n",
    "from ngsolve import *\n",
    "from netgen.occ import *\n",
    "from ngsolve.webgui import Draw\n",
    "\n",
    "# as always, we start with a workplane\n",
    "# Start bottom left and move in X direction of 10\n",
    "# move in X direction of 25\n",
    "# create an arch starting at the last point\n",
    "# rotate the coordinate system by 180 degrees\n",
    "# ... and so on\n",
    "# finally close the shape and extract the face\n",
    "\n",
    "outer = WorkPlane()\\\n",
    "        .MoveTo(10, 0)\\\n",
    "        .Line(25)\\\n",
    "        .Arc(10, 180)\\\n",
    "        .Rotate(180)\\\n",
    "        .Arc(10, 180) \\\n",
    "        .Line(25) \\\n",
    "        .Close().Face()\n",
    "\n",
    "innerE = WorkPlane().MoveTo(15, 5).Line(10).Rotate(90).Line(30).Rotate(90).Line(10).Rotate(90)  \\\n",
    "    .Line(12.50).Rotate(90).Line(7).Rotate(-90).Line(5).Rotate(-90).Line(7)\\\n",
    "    .Close().Face()\n",
    "\n",
    "\n",
    "innerB1 = WorkPlane().MoveTo(32.5, 22.5).Arc(6, 180).Close().Face()\n",
    "\n",
    "innerB2 = WorkPlane().MoveTo(32.5, 4.5).Arc(6, 180).Close().Face()\n",
    "\n",
    "face_eb = outer-innerE-innerB1-innerB2\n",
    "\n",
    "\n",
    "# select the edges with center of gravity less than 25 and name them \"E\"\n",
    "face_eb.edges[X<25].name = \"E\"\n",
    "face_eb.edges[X>=25].name = \"B\"\n",
    "\n",
    "Draw(Compound(face_eb.edges[X < 25])) \n",
    "\n",
    "Draw(Compound(face_eb.edges[X >= 25]))\n",
    "\n",
    "\n",
    "Draw(face_eb)"
   ]
  },
  {
   "cell_type": "code",
   "execution_count": 136,
   "id": "2c501119",
   "metadata": {},
   "outputs": [
    {
     "data": {
      "application/vnd.jupyter.widget-view+json": {
       "model_id": "a836fd35b22547268dddbbcf3fe3d030",
       "version_major": 2,
       "version_minor": 0
      },
      "text/plain": [
       "WebGuiWidget(layout=Layout(height='500px', width='100%'), value={'ngsolve_version': 'Netgen x.x', 'mesh_dim': …"
      ]
     },
     "metadata": {},
     "output_type": "display_data"
    },
    {
     "data": {
      "text/plain": [
       "BaseWebGuiScene"
      ]
     },
     "execution_count": 136,
     "metadata": {},
     "output_type": "execute_result"
    }
   ],
   "source": [
    "\n",
    "#rot_eb = face_eb.Revolve(Axis((0, 0, 0), Y), 70) \n",
    "rot_eb = face_eb.Extrude(20)\n",
    "\n",
    "\n",
    "\n",
    "\n",
    "# select all the faces that are no named and call them \"Z\"\n",
    "for f in rot_eb.faces:\n",
    "    if not f.name:\n",
    "        f.name = \"Z\"\n",
    "\n",
    "Draw(rot_eb)"
   ]
  },
  {
   "cell_type": "code",
   "execution_count": 126,
   "id": "78825d72",
   "metadata": {},
   "outputs": [
    {
     "data": {
      "application/vnd.jupyter.widget-view+json": {
       "model_id": "39d91e0b8f8a4073a5241130e2c2635f",
       "version_major": 2,
       "version_minor": 0
      },
      "text/plain": [
       "WebGuiWidget(layout=Layout(height='500px', width='100%'), value={'ngsolve_version': 'Netgen x.x', 'mesh_dim': …"
      ]
     },
     "metadata": {},
     "output_type": "display_data"
    }
   ],
   "source": [
    "box = Box(Pnt(0, 0, 0), Pnt(10, 10, 10))\n",
    "box.faces[:].name = \"box\"\n",
    "\n",
    "rot_eb = rot_eb + box\n",
    "solid_eb = Glue([rot_eb, box])\n",
    "Draw(solid_eb)\n",
    "solid_eb.solids[0].name = \"cube\"\n"
   ]
  },
  {
   "cell_type": "code",
   "execution_count": null,
   "id": "362cd94b",
   "metadata": {},
   "outputs": [],
   "source": [
    "\n",
    "\n",
    "#solid_eb = rot_eb.MakeFillet(rot_eb.edges, 1)\n",
    "#solid_eb = rot_eb \n",
    "\n",
    "Draw(solid_eb)\n",
    "\n"
   ]
  },
  {
   "cell_type": "code",
   "execution_count": 128,
   "id": "3a644138",
   "metadata": {},
   "outputs": [
    {
     "data": {
      "application/vnd.jupyter.widget-view+json": {
       "model_id": "fd37d984c2734675a3230594642099f2",
       "version_major": 2,
       "version_minor": 0
      },
      "text/plain": [
       "WebGuiWidget(layout=Layout(height='500px', width='100%'), value={'gui_settings': {}, 'ngsolve_version': '6.2.2…"
      ]
     },
     "metadata": {},
     "output_type": "display_data"
    },
    {
     "data": {
      "text/plain": [
       "BaseWebGuiScene"
      ]
     },
     "execution_count": 128,
     "metadata": {},
     "output_type": "execute_result"
    }
   ],
   "source": [
    "\n",
    "geo = OCCGeometry(solid_eb)\n",
    "with TaskManager():\n",
    "    mesh = Mesh(geo.GenerateMesh(maxh=4, grading=0.99))\n",
    "\n",
    "mesh.Curve(3)\n",
    "#fun = CF((z, 0, 0))\n",
    "\n",
    "#mesh.deformation(fun)\n",
    "#Draw(mesh)\n",
    "#mesh.SplitElements_Alfeld()\n",
    "Draw(mesh)\n",
    "\n"
   ]
  },
  {
   "cell_type": "markdown",
   "id": "279dfe24-d58e-4ac2-9683-9cae5addbc2d",
   "metadata": {},
   "source": [
    "## Experiment with CoefficientFunctions\n",
    "* Consult documentation https://docu.ngsolve.org/latest/i-tutorials/unit-1.2-coefficient/coefficientfunction.html\n",
    "* Compute the volume and center of gravity of your geometries using the NGSolve - `Integrate(func, mesh)` functionality"
   ]
  },
  {
   "cell_type": "code",
   "execution_count": 129,
   "id": "c22d8adf",
   "metadata": {},
   "outputs": [
    {
     "name": "stdout",
     "output_type": "stream",
     "text": [
      "('cube', 'default')\n"
     ]
    },
    {
     "data": {
      "application/vnd.jupyter.widget-view+json": {
       "model_id": "741797fb42564a0085956350b787c15f",
       "version_major": 2,
       "version_minor": 0
      },
      "text/plain": [
       "WebGuiWidget(layout=Layout(height='500px', width='100%'), value={'gui_settings': {}, 'ngsolve_version': '6.2.2…"
      ]
     },
     "metadata": {},
     "output_type": "display_data"
    },
    {
     "data": {
      "text/plain": [
       "BaseWebGuiScene"
      ]
     },
     "execution_count": 129,
     "metadata": {},
     "output_type": "execute_result"
    }
   ],
   "source": [
    "# find the volume of the solid\n",
    "cf = CoefficientFunction((1))\n",
    "Integrate(cf, mesh)\n",
    "\n",
    "print(mesh.GetMaterials())\n",
    "\n",
    "#\n",
    "lam = mesh.MaterialCF({\"cube\": 5}, default=1)\n",
    "Draw(lam, mesh, \"lambda\")\n",
    "#\n",
    "#print(mats)"
   ]
  },
  {
   "cell_type": "markdown",
   "id": "4fa33508-75b7-4f78-a663-2077eec7857b",
   "metadata": {},
   "source": [
    "## Work with GridFunctions\n",
    "* Define an $H^1$ finite element space of some order on $\\Omega = (0,1)^2$\n",
    "* Define a `GridFunction` in this space, and interpolate $u(x,y) = \\exp(-x^2 - y^2)$\n",
    "* Compute the $L_2$-norm of the interpolation error $u - I_h u$.\n",
    "* Study convergence of the interpolation error depending on the mesh-size and the polynomial order of the space (generate plots).\n",
    "* Study convergence in the $H^1$-norm\n",
    "* Find a way to compute $\\int_{\\partial \\Omega} | \\partial_n u- \\partial_n I_h u) |^2$."
   ]
  },
  {
   "cell_type": "code",
   "execution_count": 130,
   "id": "9781622b",
   "metadata": {},
   "outputs": [
    {
     "name": "stdout",
     "output_type": "stream",
     "text": [
      "('box', 'box', 'box', 'box', 'box', 'box', 'box', 'box', 'B', 'Z', 'E', 'E', 'B', 'B', 'B', 'E', 'E', 'B', 'E', 'E', 'E', 'E', 'E', 'B', 'B')\n"
     ]
    },
    {
     "data": {
      "application/vnd.jupyter.widget-view+json": {
       "model_id": "211234a5ada244338050d51ee9e4f4cd",
       "version_major": 2,
       "version_minor": 0
      },
      "text/plain": [
       "WebGuiWidget(layout=Layout(height='500px', width='100%'), value={'gui_settings': {}, 'ngsolve_version': '6.2.2…"
      ]
     },
     "metadata": {},
     "output_type": "display_data"
    },
    {
     "name": "stdout",
     "output_type": "stream",
     "text": [
      "1310.5511574897084\n"
     ]
    }
   ],
   "source": [
    "# to be sure on what I can set dirichlet boundary conditions print all the boundaries\n",
    "print(mesh.GetBoundaries())\n",
    "h1 = H1(mesh, order=1, dirichlet=\"Z\")\n",
    "\n",
    "\n",
    "# create a coefficient function and set it to the grid function\n",
    "cf = CoefficientFunction(exp(-0.01*((x-15)**2 + (y-15)**2 + z**2)))\n",
    "gf = GridFunction(h1)\n",
    "gf.Set(cf)\n",
    "Draw(gf, mesh, \"gf\")\n",
    "print(Integrate(gf, mesh))\n",
    "\n",
    "\n"
   ]
  },
  {
   "cell_type": "code",
   "execution_count": 131,
   "id": "b7852c20",
   "metadata": {},
   "outputs": [
    {
     "data": {
      "application/vnd.jupyter.widget-view+json": {
       "model_id": "13d05da2ebdf4eb292fe94becf876d7b",
       "version_major": 2,
       "version_minor": 0
      },
      "text/plain": [
       "WebGuiWidget(layout=Layout(height='500px', width='100%'), value={'gui_settings': {}, 'ngsolve_version': '6.2.2…"
      ]
     },
     "metadata": {},
     "output_type": "display_data"
    },
    {
     "name": "stdout",
     "output_type": "stream",
     "text": [
      "1307.7010450600787\n"
     ]
    }
   ],
   "source": [
    "Draw(cf, mesh)\n",
    "print(Integrate(cf, mesh))"
   ]
  },
  {
   "cell_type": "code",
   "execution_count": 132,
   "id": "e24a72f0",
   "metadata": {},
   "outputs": [
    {
     "data": {
      "application/vnd.jupyter.widget-view+json": {
       "model_id": "3bf48326019841b8a8d7279867d1e1e0",
       "version_major": 2,
       "version_minor": 0
      },
      "text/plain": [
       "WebGuiWidget(layout=Layout(height='500px', width='100%'), value={'gui_settings': {}, 'ngsolve_version': '6.2.2…"
      ]
     },
     "metadata": {},
     "output_type": "display_data"
    },
    {
     "name": "stdout",
     "output_type": "stream",
     "text": [
      "51.96881912421034\n"
     ]
    }
   ],
   "source": [
    "Draw(gf-cf, mesh, \"error\")\n",
    "print(Integrate(Norm(gf-cf), mesh))"
   ]
  },
  {
   "cell_type": "markdown",
   "id": "9de2d3eb-e050-4584-aba1-c89d02086690",
   "metadata": {},
   "source": [
    "## Linear Algebra\n",
    "* https://docu.ngsolve.org/latest/how_to/howto_linalg.html\n",
    "* https://docu.ngsolve.org/latest/how_to/howto_numpy.html#\n",
    "* Compute the Euklidean norm of the coefficient vector of the gridfunction set to the function above. Once use NGSolve functions, the other time use numpy"
   ]
  },
  {
   "cell_type": "code",
   "execution_count": 133,
   "id": "6f172a5a",
   "metadata": {},
   "outputs": [
    {
     "name": "stdout",
     "output_type": "stream",
     "text": [
      "4.131257324466285\n"
     ]
    }
   ],
   "source": [
    "import numpy as np\n",
    "\n",
    "# vec is the \"view\" of the grid function\n",
    "# FV is the flat vector\n",
    "# NumPy is the numpy array\n",
    "npvec = gf.vec.FV().NumPy()\n",
    "\n",
    "norm = np.linalg.norm(npvec)\n",
    "print(norm)"
   ]
  },
  {
   "cell_type": "markdown",
   "id": "742a719e-abac-46d6-ae36-8e17acd0184b",
   "metadata": {},
   "source": [
    "## Experiments with `BilinearForm`s and `LinearForm`s\n",
    "\n",
    "* Create a `GridFunction` gfu and interpolate $xy$ to it\n",
    "* Define `LinearForm` $f : V \\rightarrow {\\mathbb R} : v \\mapsto \\int_\\Omega 1 v \\, dx$\n",
    "* Compute $f(gfu)$ using `InnerProduct` of the vectors. Explain what you observe.\n",
    "* Define a `BilinearForm` $A : V \\times V \\rightarrow {\\mathbb R} : (u,v) \\mapsto \\int_\\Omega u v + \\nabla u \\nabla v \\, dx$\n",
    "* Compute $\\|u \\|_{H^1}^2 = \\| u \\|_{L_2}^2 + \\| \\nabla u \\|_{L_2}^2$ in two kinds: Once using `Integrate`, and then using the bilinear-form."
   ]
  },
  {
   "cell_type": "code",
   "execution_count": null,
   "id": "9d13f167",
   "metadata": {},
   "outputs": [],
   "source": [
    "mesh = Mesh(unit_square.GenerateMesh(maxh=0.1))\n",
    "fes = H1(mesh, order=2, dirichlet=\".*\")\n",
    "gfu = GridFunction(fes)\n",
    "gfu.Set(CoefficientFunction((x*y)))\n",
    "Draw(gfu)\n",
    "\n",
    "\n",
    "\n",
    "u,v = fes.TnT()\n",
    "f = LinearForm(fes)\n",
    "f += 1*v*dx\n",
    "f.Assemble()\n",
    "\n",
    "print(InnerProduct(f.vec,gfu.vec))\n",
    "\n",
    "a = BilinearForm(fes)\n",
    "a+= (u*v + grad(u)*grad(v))*dx\n",
    "a.Assemble()\n",
    "\n",
    "# first way to compute the norm\n",
    "l2_norm = Integrate((InnerProduct(gfu, gfu)), mesh) \n",
    "h1_seminorm = Integrate((InnerProduct(grad(gfu), grad(gfu))), mesh)\n",
    "\n",
    "print(f\"h1 norm squared {l2_norm + h1_seminorm}\")\n"
   ]
  },
  {
   "cell_type": "code",
   "execution_count": null,
   "id": "fa6be14a",
   "metadata": {},
   "outputs": [],
   "source": [
    "# second way to calculate it is\n",
    "h1_norm = InnerProduct(gfu.vec, a.mat * gfu.vec)\n",
    "print(f\"h1 norm squared {h1_norm}\")"
   ]
  },
  {
   "cell_type": "markdown",
   "id": "6329a221-794d-4fc2-a119-772962c4f6df",
   "metadata": {},
   "source": [
    "## Computing dual norms\n",
    "\n",
    "* Define the `LinearForm` $f : V \\rightarrow {\\mathbb R} : v \\mapsto \\int_{\\partial \\Omega} v \\, ds$\n",
    "* The canonical norm for the linear-form is the dual norm\n",
    "  \n",
    "  $$\n",
    "  \\| f \\|_{V^\\ast} := \\sup_{v \\in V} \\frac{f(v)}{\\|v \\|_V}.\n",
    "  $$\n",
    "  \n",
    "  Proof that the supremum is attained for $w$ satisfying $(w,v)_V = f(v) \\; \\forall \\, v \\in V$, i.e. the solution of a variational problem.\n",
    "* Compute the dual norm by replacing the space $V$ by a sequence of finite element spaces (refinement in $h$ and/or $p$). Try with norms $\\| \\cdot \\|_{L_2}$ and $\\| \\cdot \\|_{H^1}$.\n"
   ]
  }
 ],
 "metadata": {
  "kernelspec": {
   "display_name": "Python 3 (ipykernel)",
   "language": "python",
   "name": "python3"
  },
  "language_info": {
   "codemirror_mode": {
    "name": "ipython",
    "version": 3
   },
   "file_extension": ".py",
   "mimetype": "text/x-python",
   "name": "python",
   "nbconvert_exporter": "python",
   "pygments_lexer": "ipython3",
   "version": "3.11.6"
  }
 },
 "nbformat": 4,
 "nbformat_minor": 5
}
