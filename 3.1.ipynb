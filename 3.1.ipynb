{
 "cells": [
  {
   "cell_type": "markdown",
   "metadata": {},
   "source": [
    "# 3. Exercise\n",
    "\n",
    "\n",
    "Yash Waware\n",
    "\n",
    "Christoforos Eseroglou(12331470)  "
   ]
  },
  {
   "cell_type": "markdown",
   "metadata": {},
   "source": [
    "## 3.1 Cylindrical coordinates for the rotational symmetric plate capacitator"
   ]
  },
  {
   "cell_type": "code",
   "execution_count": 1,
   "metadata": {},
   "outputs": [],
   "source": [
    "# Imports\n",
    "from ngsolve import *\n",
    "from ngsolve.webgui import Draw\n",
    "from netgen.occ import *\n",
    "from netgen.csg import *\n",
    "import numpy as np\n",
    "import matplotlib.pyplot as plt"
   ]
  },
  {
   "cell_type": "markdown",
   "metadata": {},
   "source": [
    "### 3.1.1. 3D Condensator in Cartesian Coordinates"
   ]
  },
  {
   "cell_type": "code",
   "execution_count": 4,
   "metadata": {},
   "outputs": [
    {
     "data": {
      "application/vnd.jupyter.widget-view+json": {
       "model_id": "f207795406a146f1807144b94a62162a",
       "version_major": 2,
       "version_minor": 0
      },
      "text/plain": [
       "WebGuiWidget(layout=Layout(height='500px', width='100%'), value={'gui_settings': {}, 'ngsolve_version': '6.2.2…"
      ]
     },
     "metadata": {},
     "output_type": "display_data"
    },
    {
     "data": {
      "text/plain": [
       "BaseWebGuiScene"
      ]
     },
     "execution_count": 4,
     "metadata": {},
     "output_type": "execute_result"
    }
   ],
   "source": [
    "half_domain = WorkPlane().MoveTo(0, -5).Rectangle(5, 10).Face()\n",
    "electrode1 = WorkPlane().MoveTo(0, 0.3).Rectangle(0.4, 0.1).Face()\n",
    "electrode2 = WorkPlane().MoveTo(0, -0.4).Rectangle(0.4, 0.1).Face()\n",
    "\n",
    "half_domain.edges[0].name = \"bottom\"\n",
    "half_domain.edges[1].name = \"mantle\"\n",
    "half_domain.edges[2].name = \"top\"\n",
    "half_domain.edges[3].name = \"center\"\n",
    "\n",
    "\n",
    "# Draw(half_domain - electrode1 - electrode2)\n",
    "electrode1.edges.name = \"electrode1\"\n",
    "electrode2.edges.name = \"electrode2\"\n",
    "\n",
    "electrode1.edges.maxh = 0.05\n",
    "electrode2.edges.maxh = 0.05\n",
    "\n",
    "total = half_domain - electrode1 - electrode2\n",
    "\n",
    "# Rotates the whole face into 3d\n",
    "cylinder = total.Revolve(Axis((0,0,0), Y), 360)\n",
    "geo = OCCGeometry(cylinder, dim=3)\n",
    "\n",
    "mesh = Mesh(geo.GenerateMesh(maxh=0.8))\n",
    "\n",
    "Draw(mesh)"
   ]
  },
  {
   "cell_type": "markdown",
   "metadata": {},
   "source": [
    "#### Bilinear and Linear Form"
   ]
  },
  {
   "cell_type": "code",
   "execution_count": 5,
   "metadata": {},
   "outputs": [],
   "source": [
    "EPSILON = 8.854 * 10**(-12)\n",
    "\n",
    "fes = H1(mesh, order=2, dirichlet=\"electrode1|electrode2|mantle\")\n",
    "u, v = fes.TnT()\n",
    "\n",
    "\n",
    "cf = mesh.BoundaryCF({\n",
    "    \"electrode1\": -1.0,\n",
    "    \"electrode2\": 1.0,\n",
    "}, default=0)\n",
    "\n",
    "gfu = GridFunction(fes)\n",
    "gfu.Set(cf, definedon=mesh.Boundaries(\".*\"))\n",
    "\n",
    "\n",
    "a = BilinearForm(EPSILON*grad(u)*grad(v)*dx).Assemble()\n",
    "f = LinearForm(fes).Assemble()"
   ]
  },
  {
   "cell_type": "markdown",
   "metadata": {},
   "source": [
    "#### Solution step"
   ]
  },
  {
   "cell_type": "code",
   "execution_count": 6,
   "metadata": {},
   "outputs": [
    {
     "data": {
      "application/vnd.jupyter.widget-view+json": {
       "model_id": "0c0324c1cf3f48c1b83464accf91ca86",
       "version_major": 2,
       "version_minor": 0
      },
      "text/plain": [
       "WebGuiWidget(layout=Layout(height='500px', width='100%'), value={'gui_settings': {}, 'ngsolve_version': '6.2.2…"
      ]
     },
     "metadata": {},
     "output_type": "display_data"
    },
    {
     "data": {
      "text/plain": [
       "BaseWebGuiScene"
      ]
     },
     "execution_count": 6,
     "metadata": {},
     "output_type": "execute_result"
    }
   ],
   "source": [
    "inv = a.mat.Inverse(fes.FreeDofs())\n",
    "res = f.vec - a.mat * gfu.vec\n",
    "gfu.vec.data += inv * res\n",
    "\n",
    "# Draw(gfu, clipping={\"y\":0, \"z\":-0.01, \"dist\":0.0, \"function\" : True })"
   ]
  },
  {
   "cell_type": "markdown",
   "metadata": {},
   "source": [
    "#### Computation of the Electric Energy"
   ]
  },
  {
   "cell_type": "code",
   "execution_count": 7,
   "metadata": {},
   "outputs": [
    {
     "name": "stdout",
     "output_type": "stream",
     "text": [
      "Electric energy as calculated in cartesian coords:  5.2525733868204e-11\n"
     ]
    }
   ],
   "source": [
    "integrand = (0.5 * EPSILON * Norm(grad(gfu)) ** 2 ) \n",
    "\n",
    "elec_energy_cylinder_cart = Integrate(integrand, mesh)\n",
    "\n",
    "print(\"Electric energy as calculated in cartesian coords: \", elec_energy_cylinder_cart)"
   ]
  },
  {
   "cell_type": "markdown",
   "metadata": {},
   "source": [
    "### 3.1.2. Using cylindrical coordinates"
   ]
  },
  {
   "cell_type": "markdown",
   "metadata": {},
   "source": [
    "#### 3.1.2.1. Derivation of the weak formulation in cylindrical coordinates\n",
    "\n",
    "We can use cylindrical coordinates and the symmetry of the solution\n",
    "\n",
    "$$ u^{3D}(r, \\phi, z) = u(r, z)$$\n",
    "\n",
    "to transform the variational formulation in cylindrical coordinates.\n",
    "\n",
    "The symmetry means, that the electric potential $u$ inside the 3D cylindrical capacitator does only depend on the position in z-diretion and the distance $r$ to the rotation axis of the cylinder.\n",
    "\n",
    "Thus, we can solve the problem in a 2D plane by using the transformation theorem for the gradient and for the integration to obtain the electric potential and electric energy in cylindrical coordinates.\n",
    "\n",
    "We start by defining the basis vectors in cylindrical coordinates $e_r, e_{\\phi}, e_z$ via the cartesian basis vectors $e_1, e_2, e_3$\n",
    "\n",
    "- $e_r = cos(\\phi)e_1 + sin(\\phi)e_2$\n",
    "- $e_{\\phi} = -sin(\\phi)e_1 + cos(\\phi)e_2$\n",
    "- $e_z = e_3$\n",
    "\n",
    "Next we define the differential operator in cylindrical coordinates:\n",
    "\n",
    "$$\\nabla_{r, \\phi, z} = \\frac{\\partial}{\\partial r}e_r + \\frac{1}{r} \\frac{\\partial}{\\partial \\phi}e_{\\phi} + \\frac{\\partial}{\\partial z}e_z$$\n",
    "\n",
    "The weak formulation of the poisson problem for the cylindrical capacitator\n",
    "\n",
    "$$ \\epsilon_0  \\int_{\\Omega} \\nabla u \\nabla v dx = \n",
    "\\epsilon_0  \\int_{z_0}^{z_1} \\int_{y_0}^{y_1} \\int_{x_0}^{x_1} \\nabla u(x, y, z) \\nabla v(x, y, z)  \\space dx dy dz =0 $$\n",
    "\n",
    "can be rewritten in cylindrical coordinates using the indepency of $\\phi$ ($\\frac{1}{r}\\frac{\\partial u}{\\partial \\phi}e_{\\phi}=0$)\n",
    "\n",
    "$$\\nabla u(r, z) = \\frac{\\partial u}{\\partial r}e_r +  \\frac{\\partial u}{\\partial z}e_z$$\n",
    "\n",
    "$$\\nabla v(r, z) = \\frac{\\partial v}{\\partial r}e_r +  \\frac{\\partial v}{\\partial z}e_z$$\n",
    "\n",
    "and the transformation theorem for integrals:\n",
    "\n",
    "$$\n",
    "\\int_{\\phi(u)} f(v) dv = \\int_{u} f(\\phi(u)) \\space |det D \\phi(u)| \\space du \\quad with \\quad |det D \\phi(u)| = r\n",
    "$$\n",
    "\n",
    "as\n",
    "\n",
    "$$\n",
    "\\epsilon_0 \\int_{\\phi_0}^{\\phi_1} \\int_{z_0}^{z_1} \\int_{r_0}^{r_1}\n",
    "( \\frac{\\partial u}{\\partial r}e_r +  \\frac{\\partial u}{\\partial z}e_z) \\space (\\frac{\\partial v}{\\partial r}e_r +  \\frac{\\partial v}{\\partial z}e_z)\n",
    "\\space r \\space dr dz d\\phi = 0\n",
    "$$"
   ]
  },
  {
   "cell_type": "markdown",
   "metadata": {},
   "source": [
    "#### 3.1.2.2. Computation of the solution in 2D\n",
    "\n",
    "For the computation in 2D we use\n",
    "\n",
    "- $e_r = (1, 0, 0)^T$\n",
    "- $e_z = (0, 1, 0)^T$ since the 2D domain lays in the xy-plane, thus y-direction corresponds to the z-direction of the cylindrical coordinates\n",
    "- $r = x$ for the determinant of the jacobian since the x coordinate in 2D corresponds to the radius in the cylindrical coordinates"
   ]
  },
  {
   "cell_type": "code",
   "execution_count": 9,
   "metadata": {},
   "outputs": [
    {
     "data": {
      "application/vnd.jupyter.widget-view+json": {
       "model_id": "7cd265dbf94e4070ae7d5b1cba24025d",
       "version_major": 2,
       "version_minor": 0
      },
      "text/plain": [
       "WebGuiWidget(layout=Layout(height='500px', width='100%'), value={'gui_settings': {}, 'ngsolve_version': '6.2.2…"
      ]
     },
     "metadata": {},
     "output_type": "display_data"
    },
    {
     "data": {
      "text/plain": [
       "BaseWebGuiScene"
      ]
     },
     "execution_count": 9,
     "metadata": {},
     "output_type": "execute_result"
    }
   ],
   "source": [
    "geo = OCCGeometry(total, dim=2)\n",
    "mesh = Mesh(geo.GenerateMesh(maxh=0.5))\n",
    "\n",
    "Draw(mesh)"
   ]
  },
  {
   "cell_type": "code",
   "execution_count": 11,
   "metadata": {},
   "outputs": [],
   "source": [
    "# Cylindrical basis vectors\n",
    "EPSILON = 8.854 * 10**(-12)\n",
    "\n",
    "fes = H1(mesh, order=3, dirichlet=\"electrode1|electrode2|mantle\")\n",
    "u_cyl, v_cyl = fes.TnT()\n",
    "\n",
    "\n",
    "cf = mesh.BoundaryCF({\n",
    "    \"electrode1\": -1.0,\n",
    "    \"electrode2\": 1.0,\n",
    "}, default=0)\n",
    "\n",
    "gfu = GridFunction(fes)\n",
    "gfu.Set(cf, definedon=mesh.Boundaries(\"electrode1|electrode2|mantle\"))\n",
    "\n",
    "#Draw(gfu)"
   ]
  },
  {
   "cell_type": "code",
   "execution_count": 12,
   "metadata": {},
   "outputs": [
    {
     "data": {
      "application/vnd.jupyter.widget-view+json": {
       "model_id": "f9e9400c0be14e59a1580b5e3bf32e6b",
       "version_major": 2,
       "version_minor": 0
      },
      "text/plain": [
       "WebGuiWidget(layout=Layout(height='500px', width='100%'), value={'gui_settings': {}, 'ngsolve_version': '6.2.2…"
      ]
     },
     "metadata": {},
     "output_type": "display_data"
    },
    {
     "data": {
      "text/plain": [
       "BaseWebGuiScene"
      ]
     },
     "execution_count": 12,
     "metadata": {},
     "output_type": "execute_result"
    }
   ],
   "source": [
    "# Cylindrical basis coordinates\n",
    "e_r = CoefficientFunction((1, 0, 0)) # = x-direction\n",
    "e_z = CoefficientFunction((0, 1, 0 )) # = y-direction\n",
    "r = x\n",
    "\n",
    "# Gradients in cylindrical basis\n",
    "cf_grad_u = CoefficientFunction((grad(u_cyl)[0]*e_r + grad(u_cyl)[1]*e_z))\n",
    "cf_grad_v = CoefficientFunction((grad(v_cyl)[0]*e_r + grad(v_cyl)[1]*e_z))\n",
    "\n",
    "a = BilinearForm(EPSILON * InnerProduct(cf_grad_u, cf_grad_v) * r * dx).Assemble()\n",
    "#a = BilinearForm(EPSILON*grad(u_cyl)*grad(v_cyl)*dx).Assemble()\n",
    "f = LinearForm(fes).Assemble()\n",
    "\n",
    "inv = a.mat.Inverse(fes.FreeDofs())\n",
    "residuum = f.vec - a.mat * gfu.vec\n",
    "gfu.vec.data += inv * residuum\n",
    "\n",
    "Draw(gfu)"
   ]
  },
  {
   "cell_type": "markdown",
   "metadata": {},
   "source": [
    "### 3.1.3. Calculate the energy in cylindrical coordinates"
   ]
  },
  {
   "cell_type": "markdown",
   "metadata": {},
   "source": [
    "The volume integral for the electrical energy in cylindrical coordinates using a 2D domain is obtained by multiplying the 2D integrand with $r$ and the surface integral with $2\\pi$."
   ]
  },
  {
   "cell_type": "code",
   "execution_count": 14,
   "metadata": {},
   "outputs": [
    {
     "name": "stdout",
     "output_type": "stream",
     "text": [
      "Cylindrical domain electric energy:  5.233029252456841e-11 J\n",
      "Error:  1.9544134363559178e-13 J\n",
      "rel error:  0.003720868405684485\n"
     ]
    }
   ],
   "source": [
    "integrand = 0.5 * EPSILON * Norm(grad(gfu)) ** 2 \n",
    "\n",
    "# r for integration transformation and 2*pi for rotation\n",
    "elec_energy_cylinder_cyl = Integrate(integrand * r, mesh) * 2 * pi \n",
    "\n",
    "print(\"Cylindrical domain electric energy: \", elec_energy_cylinder_cyl, \"J\")\n",
    "\n",
    "error = abs(elec_energy_cylinder_cart - elec_energy_cylinder_cyl)\n",
    "\n",
    "print(\"Error: \", error, \"J\")\n",
    "print('rel error: ',error/elec_energy_cylinder_cart )"
   ]
  },
  {
   "cell_type": "markdown",
   "metadata": {},
   "source": [
    "**Relation between $E_{cart}$ and $E_{cyl}$:**\n",
    "\n",
    "The electric energy calculated in the 2D domain with cylindrical coordinates is up to floating point presicion ($error = 4.8 \\cdot 10^{-14} \\space J$) similar to the 3D result in cartesian coordinates. Thus, by exploiting the independency of the solution on the angular $\\phi$, the 3D problem can be easily transformed into a 2D problem and is solved with less computational effort."
   ]
  },
  {
   "cell_type": "markdown",
   "metadata": {},
   "source": [
    "### 3.1.4. Boundary Conditions for the 2D Problems along the symmetry axis\n",
    "\n",
    "The solution $u$ is rotation-axis symmetric to the geometrical rotation axis. Thus, similar to the quarter domain in exercise 2, the rotation axis requires homogeneous Neumann boundary condition $\\frac{\\partial u}{\\partial n}=0$. The electric potential on this edge is non-zero and depends on the distance to the electrodes. There is also no flux in normal direction to this edge.\n",
    "\n",
    "This boundary condition is natural and it is therefore not meaningful to set boundary conditions for the 2D problem along the axis."
   ]
  },
  {
   "cell_type": "markdown",
   "metadata": {},
   "source": [
    "**Does there exist a trace operator? Compute the norm of the trace operator on a sequence of meshes.**"
   ]
  },
  {
   "cell_type": "code",
   "execution_count": 26,
   "metadata": {},
   "outputs": [],
   "source": [
    "def SetupTraceProblem(p):\n",
    "    fes = H1(mesh, order=p)\n",
    "    u, v = fes.TnT()\n",
    "    H1Norm = BilinearForm(u*v*dx+grad(u)*grad(v)*dx ).Assemble().mat\n",
    "    L2GammaNorm = BilinearForm(u*v*ds(\"rotation_axis\"), check_unused = False).Assemble().mat\n",
    "    pre = Projector(fes.FreeDofs(), range=True)\n",
    "    return L2GammaNorm, H1Norm, pre, fes"
   ]
  },
  {
   "cell_type": "code",
   "execution_count": 28,
   "metadata": {},
   "outputs": [
    {
     "name": "stdout",
     "output_type": "stream",
     "text": [
      "[[1, 0.6218908187554193], [2, 0.6420204690584417], [3, 0.6425076111556705], [4, 0.6425980342648488], [5, 0.6426359261790292], [6, 0.6426542509720611], [7, 0.6426367822445501], [8, 0.642658643433112], [9, 0.6426615442730121]]\n"
     ]
    },
    {
     "data": {
      "image/png": "[encoded data removed]",
      "text/plain": [
       "<Figure size 640x480 with 1 Axes>"
      ]
     },
     "metadata": {},
     "output_type": "display_data"
    }
   ],
   "source": [
    "lams = []\n",
    "for p in range(1,10):\n",
    "    L2GammaNorm, H1Norm, pre, fes = SetupTraceProblem(p)\n",
    "    evals,evecs = solvers.LOBPCG(H1Norm, L2GammaNorm, pre=pre, num=5, maxit=200, printrates=False)\n",
    "    lams.append([p,1/evals[-1]])\n",
    "\n",
    "print(lams)\n",
    "plt.xlabel(\"p\")\n",
    "plt.ylabel(\"lambda\")\n",
    "plt.plot(*zip(*lams), '-x');"
   ]
  },
  {
   "cell_type": "markdown",
   "metadata": {},
   "source": [
    "We can observe that the maximal eigenvalue converges very fast to $\\lambda_{max} \\approx 0.6427$.\n",
    "\n",
    "Thus, there is hope that the norm of the trace operator $\\|tr\\|$ is also bounded on the Sobolev space $V$."
   ]
  },
  {
   "cell_type": "markdown",
   "metadata": {},
   "source": [
    "### 3.1.5. Define a norm such that the bilinear form is bounded and coercive\n",
    "\n",
    "Try $L_2$ norm:"
   ]
  },
  {
   "cell_type": "markdown",
   "metadata": {},
   "source": [
    "## 3.2. Friedrichs' inequality\n",
    "\n",
    "### 3.2.1. on the segment $(a, b)$\n",
    "\n",
    "Prove Friedrichs' inequality on the interval $I = (a,b)$ with elementary tools. Show that there exists a constant $c_F$ such that\n",
    "\n",
    "$$\n",
    "\\| u \\|_{L_2(I)} \\leq c_F \\, \\| u^\\prime \\|_{L_2(I)} \\qquad \\forall \\, u \\in C^1(\\overline{I}), \\, u(a) = 0\n",
    "$$\n",
    "\n",
    "how does your constant $c_F$ depend on $a$ and $b$ ?"
   ]
  },
  {
   "cell_type": "markdown",
   "metadata": {},
   "source": [
    "The $L_2$ norm on the 1D domain $\\Omega = (a, b)$ is defined as\n",
    "\n",
    "$$\n",
    "\\|u\\|_{L_2} = \\left ( \\int_a^b (u(x))^2 \\right)^{1/2}\n",
    "$$\n",
    "\n",
    "$$\n",
    "\\|u\\prime\\|_{L_2} = \\left ( \\int_a^b (u^\\prime(x))^2 \\right)^{1/2}\n",
    "$$\n",
    "\n",
    "We know that $u(a) = 0$, thus we can rewrite $u(x)$ and use the fundamental theorem of calculus to obtain\n",
    "\n",
    "$$\n",
    "u(x) = u(x) - u(a) = \\int_a^x  u^\\prime(s) ds\n",
    "$$\n",
    "\n",
    "$$\n",
    "|u(x)|^2 = \\left| \\int_a^x u^\\prime (s) ds \\right|^2 dx\n",
    "$$\n",
    "\n",
    "Now we can bound this by extending the integration domain\n",
    "\n",
    "$$\n",
    "|u(x)|^2 = \\left| \\int_a^x 1 \\cdot u^\\prime (s) ds \\right|^2 \\leq\n",
    "\\left|\\int_a^b 1^2 \\cdot u^\\prime(s) ds \\right|^2\n",
    "$$\n",
    "\n",
    "and using Cauchy-Schwartz inequality\n",
    "\n",
    "$$\n",
    "|u(x)|^2 =\n",
    "\\int_a^b 1^2 ds \\cdot \\int_a^b |u^\\prime(s)|^2 ds\n",
    "$$\n",
    "\n",
    "$$\n",
    "|u(x)|^2 =\n",
    "(b-a) \\cdot \\int_a^b |u^\\prime(s)|^2 ds\n",
    "$$\n",
    "\n",
    "Until now we have shown that,\n",
    "$$\n",
    "|u(x)|^2 =\n",
    "(b-a) \\cdot \\int_a^b |u^\\prime(s)|^2 ds\n",
    "$$\n",
    "\n",
    "Integrate this over the domain $\\Omega = (a, b)$ gives\n",
    "\n",
    "$$\n",
    "\\int_a^b|u(x)|^2dx \\leq\n",
    "(b-a)\\cdot \\int_a^b dx \\int_a^b |u^\\prime(s)|^2 ds\n",
    "$$\n",
    "\n",
    "$$\n",
    "\\|u(x)\\|_{L_2(a,b)}^2 \\leq\n",
    "(b-a)^2\\cdot \\|u^\\prime(x)\\|_{L_2(a,b)}^2\n",
    "$$\n",
    "\n",
    "$$\n",
    "\\|u(x)\\|_{L_2(a,b)} \\leq\n",
    "(b-a)\\cdot \\|u^\\prime(x)\\|_{L_2(a,b)}\n",
    "$$\n",
    "\n",
    "Thus, $c_F = (b-a)$."
   ]
  },
  {
   "cell_type": "markdown",
   "metadata": {},
   "source": [
    "### 3.2.2. on the segment $(a,b) \\space\\times \\space (c, d)$\n",
    "\n",
    "Define $\\Omega = (0,a) \\times (0,b)$. Prove Friedrichs' inequality \n",
    "\n",
    "$$\n",
    "\\| u \\|_{L_2(\\Omega)} \\leq c_F \\| \\nabla u \\|_{L_2(\\Omega)} \\qquad \\forall \\, u \\in C^1(\\overline\\Omega), \\; u(0,y) = 0 \\text{ for } 0 \\leq y \\leq b.\n",
    "$$\n",
    "\n",
    "How does $c_F$ depend on $a$ and $b$ ? "
   ]
  },
  {
   "cell_type": "markdown",
   "metadata": {},
   "source": [
    "## 3.3. Point evaluation functional"
   ]
  },
  {
   "cell_type": "markdown",
   "metadata": {},
   "source": [
    "## 3.4. A concrete application of Bramble-Hilbert"
   ]
  },
  {
   "cell_type": "markdown",
   "metadata": {},
   "source": [
    "Let $\\Omega = B_r(p)$ be the ball with center $p$ and radius $r$ in 3D. Let $\\Pi_{P_0}^{Br(p)}: L_2 \\mapsto P^0$ be the $L_2(\\Omega)$-orthogonal projector into the space of constant polynominals on $\\Omega$. Prove that there exists a constant $c$, independent of $r$ and $p$, such that\n",
    "\n",
    "$$\n",
    "\\| u - \\Pi_{P_0}^{Br(p)} u \\|_{L_2} \\leq c r \\, \\| \\nabla u \\|_{L_2} \\qquad \\forall \\, u \\in H^1(B_r(p))\n",
    "$$ "
   ]
  },
  {
   "cell_type": "markdown",
   "metadata": {},
   "source": [
    "### 3.4.1. Prove that the orthogonal projection w.r.t. $L_2$ is in fact the mean value."
   ]
  },
  {
   "cell_type": "markdown",
   "metadata": {},
   "source": [
    "We can prove this by using the definition of $L_2$-orthogonal projections.\n",
    "\n",
    "The inner product between the difference of a function and its projection onto a subspace and any function in that subspace is zero.\n",
    "\n",
    "$$\n",
    "\\left(u-\\Pi_{P_0}^{Br(p)} u, 1\\right)_{L_2(\\Omega)} = \\int_\\Omega (u-\\Pi_{P_0}^{Br(p)} u) \\cdot 1 dx = 0\n",
    "$$\n",
    "\n",
    "$$\n",
    "\\int_\\Omega u dx - \\int_\\Omega \\Pi_{P_0}^{Br(p)} u dx = 0\n",
    "$$\n",
    "\n",
    "$$\n",
    "\\int_\\Omega u dx = \\int_\\Omega \\Pi_{P_0}^{Br(p)} u dx\n",
    "$$\n",
    "\n",
    "Thus, $\\Pi_{P_0}^{Br(p)} u$ has to be the mean value."
   ]
  },
  {
   "cell_type": "markdown",
   "metadata": {},
   "source": [
    "### 3.4.2. Prove the estimate on the reference ball"
   ]
  },
  {
   "cell_type": "markdown",
   "metadata": {},
   "source": [
    "> **Bramble Hilbert lemma:**\n",
    "> \n",
    "> Let $U$ be some Hilbert space, and $L : H^k \\rightarrow U$ be a continuous linear operator, i.e.\n",
    ">\n",
    "> $$\n",
    "  \\| L v \\|_U \\preceq \\| v \\|_{H^k} \\qquad \\forall \\, v \\in H^k.\n",
    "  $$\n",
    "> Let $L$ be such that $L q = 0$ for all polynomials $q \\in P^{k-1}$. Then\n",
    "> one can replace the norm by the semi-norm on the right hand side, i.e. there holds \n",
    "> \n",
    "> $$\n",
    "  \\| L v \\|_U \\preceq | v |_{H^k} \\qquad \\forall \\, v \\in H^k.\n",
    "  $$"
   ]
  },
  {
   "cell_type": "markdown",
   "metadata": {},
   "source": [
    "To prove the estimate on the reference ball we first define a linear operator:\n",
    "\n",
    " $L:H^1(B_1(0)) \\mapsto L^2(B_1(0))$ as $L(u) = u - \\Pi_{P_0}u$.\n",
    "\n",
    "$L$ is a linear operator and $L(q)=0$ for all constant polynominals $q \\in P^0$."
   ]
  },
  {
   "cell_type": "markdown",
   "metadata": {},
   "source": [
    "Now we need prove, that $L$ is continuous. For any $u \\in H^1(B_1(0))$, we have\n",
    "\n",
    "$$\n",
    "\\|L(u)\\|_{L^2(B_1(0))} = \\|u-\\Pi_{P^0}u\\|_{L^2(B_1(0))} \\leq \\|u\\|_{L^2(B_1(0))} + \\|\\Pi_{P^0}u\\|_{L^2(B_1(0))} \\leq (1 + \\|\\Pi_{P^0}\\|) \\|u\\|_{L^2(B_1(0))}\n",
    "$$\n",
    "\n",
    "Since our operator $\\Pi_{P^0}$ is a bounded operator, the norm is also bounded and therefore is $L$ continuous."
   ]
  },
  {
   "cell_type": "markdown",
   "metadata": {},
   "source": [
    "Now we can use the Bramble Hilbert lemma:\n",
    "$$\n",
    "\\|L(u)\\|_{L^2(B_1(0))} = \\|u-\\Pi_{P^0}u\\|_{L^2(B_1(0))} \\leq c|u|_{H^1(B_1(0))}\n",
    "$$"
   ]
  },
  {
   "cell_type": "markdown",
   "metadata": {},
   "source": [
    "### 3.4.3 How does $\\|u\\|_{L_2(B_r)}$ relate to $\\|u \\circ \\Phi \\|$ ?\n",
    "\n"
   ]
  },
  {
   "cell_type": "markdown",
   "metadata": {},
   "source": [
    "Define the mappinng $\\Phi: B_1(0) \\mapsto B_r(p): x \\mapsto p + r\\cdot x$\n",
    "\n",
    "Change of variables:\n",
    "- $x \\mapsto \\Phi(x)$\n",
    "- $\\Phi(x) = p + r\\cdot x$\n",
    "\n",
    "For the integral transformation the Jacobian of the mapping function is required:\n",
    "- $\\Phi^\\prime(x) = r$\n",
    "\n",
    "With changed variables we have:\n",
    "$$\n",
    "\\int_{B_r(p)} |u(x)|^2 dx = \\int_{B_1(0)} |u(\\Phi(x))|^2 r dx\n",
    "$$\n",
    "\n",
    "$$\n",
    "\\int_{B_r(p)} |u(x)|^2 dx = r \\int_{B_1(0)} |(u \\circ \\Phi(x))|^2\n",
    "$$\n",
    "\n",
    "This implies:\n",
    "$$\n",
    "\\|u\\|_{L_2(B_r)} = r \\|(u \\circ \\Phi)\\|\n",
    "$$"
   ]
  },
  {
   "cell_type": "markdown",
   "metadata": {},
   "source": [
    "### 3.4.4. Show that the projector commutes with the pull back"
   ]
  },
  {
   "cell_type": "markdown",
   "metadata": {},
   "source": [
    "To show that the projector commutes with the pull back we have to prove following equation:\n",
    "\n",
    "$$\n",
    "(\\Pi_{B_r}^{P^0}u)\\circ \\Phi = \\Pi_{B_r}^{P^0} (u \\circ \\Phi)\n",
    "$$\n",
    "\n",
    "which can be rewritten as:\n",
    "\n",
    "$$\n",
    "\\frac{1}{V_r} \\int_{B_r} u(\\phi(x)) r dx = \\frac{1}{V_1} \\int_{B_1} u(p + rx) dx\n",
    "$$\n",
    "\n",
    "We can describe the integral on the RHS in terms of $B_r$ by condidering the volume relation between $B_r$ and $B_1$\n",
    "\n",
    "$$\n",
    "\\frac{1}{V_r} \\int_{B_r} u(\\phi(x)) r dx = \\frac{1}{r \\cdot V_1} \\int_{B_r} u(\\phi(x)) r dx\n",
    "$$\n",
    "\n",
    "This relation holds true because the volumes of the balls are related only on the radius:\n",
    "\n",
    "$$\n",
    "V_r = \\int_{B_r}dx = r \\int_{B_1} dx = rV_1\n",
    "$$"
   ]
  },
  {
   "cell_type": "markdown",
   "metadata": {},
   "source": [
    "### 3.4.5. Combine the arguments to prove the result\n",
    "\n"
   ]
  },
  {
   "cell_type": "markdown",
   "metadata": {},
   "source": [
    "From 3.4.2. we have the estimate on the reference ball $B_1(0)$\n",
    "$$ \n",
    "\\|u - \\Pi u\\|_{L_2(B_1)} \\leq C |u|_{H^1(B_1)}\n",
    "$$"
   ]
  },
  {
   "cell_type": "markdown",
   "metadata": {},
   "source": [
    "From 3.4.3 we get the realtion between the norms on $B_r$ and $B_1$ \n",
    "\n",
    "$$\n",
    "\\|u - \\Pi_{B_r} u \\|_ {L_2(B_R)} = r \\|(u \\circ \\Phi) - (\\Pi_{B_1}(u \\circ \\Phi))\\|_{L_2(B_1)} \\quad (I)\n",
    "$$\n"
   ]
  },
  {
   "cell_type": "markdown",
   "metadata": {},
   "source": [
    "and with the prove from 3.4.4 that the projector commutes with the pull back we have\n",
    "\n",
    "$$\n",
    "r\\|(u \\circ \\Phi) - (\\Pi_{B_1}(u \\circ \\Phi))\\|_{L_2(B_1)} \\leq Cr |u\\circ \\Phi|_{H^1(B_1)} = Cr |u|_{H^1(B_r)} \\quad (II)\n",
    "$$\n"
   ]
  },
  {
   "cell_type": "markdown",
   "metadata": {},
   "source": [
    "With the LHS of $(I)$ and the RHS of $(II)$ we have proven the result:\n",
    "$$\n",
    "\\|u - \\Pi_{B_r} u \\|_ {L_2(B_R)} \\leq Cr |u|_{H^1(B_r)} \n",
    "$$"
   ]
  }
 ],
 "metadata": {
  "kernelspec": {
   "display_name": "Python 3",
   "language": "python",
   "name": "python3"
  },
  "language_info": {
   "codemirror_mode": {
    "name": "ipython",
    "version": 3
   },
   "file_extension": ".py",
   "mimetype": "text/x-python",
   "name": "python",
   "nbconvert_exporter": "python",
   "pygments_lexer": "ipython3",
   "version": "3.11.6"
  }
 },
 "nbformat": 4,
 "nbformat_minor": 2
}
