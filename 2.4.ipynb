{
 "cells": [
  {
   "cell_type": "markdown",
   "metadata": {},
   "source": [
    "# POINT 1"
   ]
  },
  {
   "cell_type": "markdown",
   "metadata": {},
   "source": [
    "## Norm $||u||_V$"
   ]
  },
  {
   "cell_type": "markdown",
   "metadata": {},
   "source": [
    "-----"
   ]
  },
  {
   "cell_type": "markdown",
   "metadata": {},
   "source": [
    "## Triangular property"
   ]
  },
  {
   "cell_type": "markdown",
   "metadata": {},
   "source": [
    "Need to show \n",
    "\n",
    "$||u+w||_V \\leq ||u||_V + ||w||_V $"
   ]
  },
  {
   "cell_type": "markdown",
   "metadata": {},
   "source": [
    "$ ||u||_V + ||w||_V = \\sqrt{a(u,u) +b(u,u)} +\\sqrt{a(w,w)+b(w,w)}$"
   ]
  },
  {
   "cell_type": "markdown",
   "metadata": {},
   "source": [
    "$||u+w||_V = \\sqrt{\\left(a(u+w,u+w)+b(u+w,u+w) \\right)}$\n",
    "\n",
    "$= \\sqrt{\\left(a(u,u) +2a(u,w) +a(w,w) +b(u,u) +2b(u,w) +b(w,w) \\right)}$\n",
    "\n",
    "$\\leq \\sqrt{\\left(a(u,u) +2a(u,u)^{1/2}a(w,w)^{1/2} +a(w,w) +b(u,u) +2b(u,u)^{1/2}b(w,w)^{1/2} +b(w,w) \\right)}$\n",
    "\n",
    "$=\\sqrt{\\left(a^{1/2}(u,u)+a^{1/2}(w,w)\\right)^2 +\\left(b^{1/2}(u,u)+b^{1/2}(w,w)\\right)^2 }$\n",
    "\n",
    "$\\leq a^{1/2}(u,u)+a^{1/2}(w,w)+ b^{1/2}(u,u)+b^{1/2}(w,w)$"
   ]
  },
  {
   "cell_type": "markdown",
   "metadata": {},
   "source": [
    "We used linearity of bilinear form and the symmetry that is provided by the exercise."
   ]
  },
  {
   "cell_type": "markdown",
   "metadata": {},
   "source": [
    "We can split the sqrt because \n",
    "\n",
    "$\\sqrt{\\alpha + \\beta} \\leq \\sqrt{\\alpha} + \\sqrt{\\beta}, \\quad \\forall \\alpha, \\beta \\in \\mathbb{R^+}$"
   ]
  },
  {
   "cell_type": "markdown",
   "metadata": {},
   "source": [
    "Thus\n",
    "\n",
    "$||u+v||_V \\leq \\left(a(u,u)+b(u,u)\\right)^2 +\\left(a(w,w)+b(w,w)\\right)^2$"
   ]
  },
  {
   "cell_type": "markdown",
   "metadata": {
    "vscode": {
     "languageId": "plaintext"
    }
   },
   "source": [
    "We cannot continue further. "
   ]
  },
  {
   "cell_type": "code",
   "execution_count": null,
   "metadata": {
    "vscode": {
     "languageId": "plaintext"
    }
   },
   "outputs": [],
   "source": []
  },
  {
   "cell_type": "code",
   "execution_count": null,
   "metadata": {
    "vscode": {
     "languageId": "plaintext"
    }
   },
   "outputs": [],
   "source": []
  },
  {
   "cell_type": "code",
   "execution_count": null,
   "metadata": {
    "vscode": {
     "languageId": "plaintext"
    }
   },
   "outputs": [],
   "source": []
  },
  {
   "cell_type": "code",
   "execution_count": null,
   "metadata": {
    "vscode": {
     "languageId": "plaintext"
    }
   },
   "outputs": [],
   "source": []
  },
  {
   "cell_type": "code",
   "execution_count": null,
   "metadata": {
    "vscode": {
     "languageId": "plaintext"
    }
   },
   "outputs": [],
   "source": []
  },
  {
   "cell_type": "markdown",
   "metadata": {},
   "source": [
    "## Scalar multiplication property"
   ]
  },
  {
   "cell_type": "markdown",
   "metadata": {},
   "source": [
    "----"
   ]
  },
  {
   "cell_type": "markdown",
   "metadata": {},
   "source": [
    "$||\\lambda u||_V = \\sqrt{a(\\lambda u, \\lambda u)+b(\\lambda u, \\lambda u)}$ \n",
    "\n",
    "$ = \\sqrt{\\lambda^2 \\left(a(u,u)+b(u,u) \\right)}$\n",
    "\n",
    "$ = |\\lambda| \\sqrt{\\left(a(u,u)+b(u,u) \\right)}$\n",
    "\n",
    "$|\\lambda| ||u||_V$"
   ]
  },
  {
   "cell_type": "markdown",
   "metadata": {},
   "source": [
    "## Positive definitness"
   ]
  },
  {
   "cell_type": "markdown",
   "metadata": {},
   "source": [
    "----"
   ]
  },
  {
   "cell_type": "markdown",
   "metadata": {},
   "source": [
    "If $u = 0$ then $||u||_V = 0$, \n",
    "\n",
    "because \n",
    "\n",
    "$a(\\cdot , \\cdot)$ and $b(\\cdot, \\cdot)$ are bilinear forms"
   ]
  },
  {
   "cell_type": "markdown",
   "metadata": {},
   "source": [
    "If\n",
    "\n",
    "$0 = ||u||_V \\Rightarrow$\n",
    "\n",
    "$\\sqrt{\\left(a(u,u)+b(u,u) \\right)} = 0$\n",
    "\n",
    "$a(u,u)+b(u,u) = 0$\n",
    "\n",
    "$a(u,u)= -b(u,u) = C$\n"
   ]
  },
  {
   "cell_type": "markdown",
   "metadata": {},
   "source": [
    "Since both $a(\\cdot , \\cdot)$ and $b(\\cdot, \\cdot)$ are bilinear forms, we have that \n",
    "\n",
    "$a(\\cdot, \\cdot) \\geq 0$ and $b(\\cdot, \\cdot)\\geq 0$\n",
    "\n",
    "This implies that $C =0$"
   ]
  },
  {
   "cell_type": "markdown",
   "metadata": {},
   "source": []
  },
  {
   "cell_type": "markdown",
   "metadata": {},
   "source": []
  },
  {
   "cell_type": "markdown",
   "metadata": {},
   "source": [
    "## Norm 2 $||(u_1, u_2)||_V$"
   ]
  },
  {
   "cell_type": "markdown",
   "metadata": {},
   "source": [
    "## Triangular property\n",
    "---"
   ]
  },
  {
   "cell_type": "markdown",
   "metadata": {
    "vscode": {
     "languageId": "plaintext"
    }
   },
   "source": [
    "Again we cannot prove the triangular identity\n"
   ]
  },
  {
   "cell_type": "markdown",
   "metadata": {},
   "source": [
    "## Absolute homogeneity\n",
    "----"
   ]
  },
  {
   "cell_type": "markdown",
   "metadata": {},
   "source": [
    "$|| \\lambda (u_1, u_2)||_V = \\sqrt{||\\lambda u_1||^2_V + ||\\lambda u_1||^2_V  }$\n",
    "\n",
    "$ = |\\lambda| \\sqrt{||u_1||^2_V + ||u_1||^2_V  }$\n",
    "\n",
    "$ = |\\lambda| \\cdot ||(u_1, u_2)||_V$"
   ]
  },
  {
   "cell_type": "markdown",
   "metadata": {},
   "source": [
    "## Positive definiteness\n",
    "----"
   ]
  },
  {
   "cell_type": "markdown",
   "metadata": {},
   "source": [
    "Again if $(u_1, u_2)=0 \\Rightarrow ||(u_1, u_2)||_V=0$"
   ]
  },
  {
   "cell_type": "markdown",
   "metadata": {},
   "source": [
    "$||(u_1, u_2)||_V=0 \\Rightarrow$\n",
    "\n",
    "$||u_1||^2_V + ||u_1||^2_V = 0 \\Rightarrow$\n",
    "\n",
    "$||u_1||^2_V =- ||u_1||^2_V =C$"
   ]
  },
  {
   "cell_type": "markdown",
   "metadata": {},
   "source": [
    "Since both h.s are norms the only possibility is $C=0$.\n",
    "\n",
    "And thus because of the proof of the single norm above \n",
    "\n",
    "$u_1=0$ and $u_2=0$\n",
    "\n",
    "or\n",
    "\n",
    "$(u_1, u_2) =0$"
   ]
  },
  {
   "cell_type": "code",
   "execution_count": null,
   "metadata": {
    "vscode": {
     "languageId": "plaintext"
    }
   },
   "outputs": [],
   "source": []
  },
  {
   "cell_type": "markdown",
   "metadata": {},
   "source": [
    "# POINT 2 CONTINOUITY"
   ]
  },
  {
   "cell_type": "markdown",
   "metadata": {},
   "source": [
    "We have to show that \n",
    "\n",
    "$B((u_1, u_2), (v_1, v_2)) \\leq \\beta ||(u_1, u_2)||_{V^2} ||(v_1, v_2)||_{V^2}$"
   ]
  },
  {
   "cell_type": "markdown",
   "metadata": {},
   "source": [
    "We know that \n",
    "\n",
    "$a(u,v) \\leq a(u,u)^{1/2} a(v,v)^{1/2}$\n",
    "\n",
    "$b(u,v) \\leq b(u,u)^{1/2} b(v,v)^{1/2}$"
   ]
  },
  {
   "cell_type": "markdown",
   "metadata": {},
   "source": [
    "and also that"
   ]
  },
  {
   "cell_type": "markdown",
   "metadata": {},
   "source": [
    "$a(u,v)\\leq \\alpha_2 ||u||\\cdot ||v||$\n",
    "\n",
    "$b(u,v)\\leq \\beta_2 ||u||\\cdot ||v||$"
   ]
  },
  {
   "cell_type": "markdown",
   "metadata": {},
   "source": [
    "$B \\leq \\alpha_2 ||u_1||\\cdot ||v_1|| -\\alpha_2 ||u_2||\\cdot ||v_2|| + \\beta_2 ||u_2||\\cdot ||v_1|| + \\beta_2 ||u_1||\\cdot ||v_2|| $"
   ]
  },
  {
   "cell_type": "markdown",
   "metadata": {},
   "source": []
  },
  {
   "cell_type": "markdown",
   "metadata": {},
   "source": []
  },
  {
   "cell_type": "markdown",
   "metadata": {},
   "source": [
    "## INF-SUP"
   ]
  },
  {
   "cell_type": "markdown",
   "metadata": {},
   "source": [
    "We choose $(v_1, v_2) = (u_2, u_1)$"
   ]
  },
  {
   "cell_type": "markdown",
   "metadata": {},
   "source": [
    "Then "
   ]
  },
  {
   "cell_type": "markdown",
   "metadata": {},
   "source": [
    "$B = a(u_1, u_2) - a(u_2, u_1) + b(u_2, u_2) + b(u_1, u_1)$\n",
    "\n",
    "$B = b(u_2, u_2) + b(u_1, u_1) \\quad ._{(1)}$"
   ]
  },
  {
   "cell_type": "markdown",
   "metadata": {},
   "source": [
    "Since b is billinear and coerceive \n",
    "\n",
    "$\\sup \\frac{b(u,v)}{||v||} \\geq \\beta ||u||$"
   ]
  },
  {
   "cell_type": "markdown",
   "metadata": {},
   "source": [
    "From 1 then we get"
   ]
  },
  {
   "cell_type": "markdown",
   "metadata": {},
   "source": [
    "$B \\geq \\beta (||u_2||^2+||u_1||^2)$"
   ]
  },
  {
   "cell_type": "markdown",
   "metadata": {},
   "source": [
    "or if we form the ratio and take the supremum"
   ]
  },
  {
   "cell_type": "markdown",
   "metadata": {},
   "source": [
    "$\\sup \\frac{B}{||u_2||^2 + ||u_1||^2} \\geq \\beta $"
   ]
  },
  {
   "cell_type": "code",
   "execution_count": null,
   "metadata": {
    "vscode": {
     "languageId": "plaintext"
    }
   },
   "outputs": [],
   "source": []
  },
  {
   "cell_type": "code",
   "execution_count": null,
   "metadata": {
    "vscode": {
     "languageId": "plaintext"
    }
   },
   "outputs": [],
   "source": []
  },
  {
   "cell_type": "markdown",
   "metadata": {},
   "source": []
  }
 ],
 "metadata": {
  "language_info": {
   "name": "python"
  }
 },
 "nbformat": 4,
 "nbformat_minor": 2
}
