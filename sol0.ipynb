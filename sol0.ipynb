{
 "cells": [
  {
   "cell_type": "code",
   "execution_count": 1,
   "metadata": {},
   "outputs": [
    {
     "data": {
      "application/vnd.jupyter.widget-view+json": {
       "model_id": "4d264690d98a4391ae41602618fc22a6",
       "version_major": 2,
       "version_minor": 0
      },
      "text/plain": [
       "WebGuiWidget(layout=Layout(height='500px', width='100%'), value={'ngsolve_version': 'Netgen x.x', 'mesh_dim': …"
      ]
     },
     "metadata": {},
     "output_type": "display_data"
    },
    {
     "data": {
      "application/vnd.jupyter.widget-view+json": {
       "model_id": "432f74f82c274359aef779d784ee1f69",
       "version_major": 2,
       "version_minor": 0
      },
      "text/plain": [
       "WebGuiWidget(layout=Layout(height='500px', width='100%'), value={'gui_settings': {}, 'ngsolve_version': '6.2.2…"
      ]
     },
     "metadata": {},
     "output_type": "display_data"
    },
    {
     "data": {
      "text/plain": [
       "BaseWebGuiScene"
      ]
     },
     "execution_count": 1,
     "metadata": {},
     "output_type": "execute_result"
    }
   ],
   "source": [
    "from ngsolve import *\n",
    "from ngsolve.webgui import Draw\n",
    "from netgen.occ import *\n",
    "\n",
    "# concept of workplanes:\n",
    "rect = WorkPlane().Rectangle(1, 1)\n",
    "circ = WorkPlane().Circle(0.5, 0.5, 0.2)\n",
    "\n",
    "# create 2 concentric circles\n",
    "crown1 = WorkPlane().Circle(0.5, 0.5, 0.6)\n",
    "crown2 = WorkPlane().Circle(0.5, 0.5, 1)\n",
    "\n",
    "\n",
    "# the first figure is the difference of the rectangle and the circle\n",
    "face1 = rect.Face() - circ.Face()\n",
    "\n",
    "# the second figure is the difference of the two circles\n",
    "face2 = crown2.Face() - crown1.Face()\n",
    "\n",
    "# the final figure is the sum of the two previous figures in which one is moved by (1,1,0)\n",
    "face = face1 + face2.Move((1, 1, 0))\n",
    "\n",
    "# rotate the final figure by 45 degrees\n",
    "face = face.Rotate(Axis((0, 0, 0), Z), 45)\n",
    "\n",
    "Draw(face)\n",
    "\n",
    "# set the maxh for the edge 1:\n",
    "face.edges[1].maxh = 0.05\n",
    "\n",
    "geo = OCCGeometry(face)\n",
    "mesh = Mesh(geo.GenerateMesh(maxh=0.5))\n",
    "mesh.Curve(3)\n",
    "Draw(mesh)"
   ]
  },
  {
   "cell_type": "code",
   "execution_count": null,
   "metadata": {},
   "outputs": [],
   "source": []
  }
 ],
 "metadata": {
  "kernelspec": {
   "display_name": "ngspy",
   "language": "python",
   "name": "python3"
  },
  "language_info": {
   "codemirror_mode": {
    "name": "ipython",
    "version": 3
   },
   "file_extension": ".py",
   "mimetype": "text/x-python",
   "name": "python",
   "nbconvert_exporter": "python",
   "pygments_lexer": "ipython3",
   "version": "3.11.6"
  }
 },
 "nbformat": 4,
 "nbformat_minor": 2
}
