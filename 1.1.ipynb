{
 "cells": [
  {
   "cell_type": "code",
   "execution_count": 1,
   "metadata": {},
   "outputs": [],
   "source": [
    "from ngsolve import *\n",
    "from ngsolve.webgui import Draw\n",
    "from netgen.occ import *\n",
    "from netgen.csg import *\n",
    "import numpy as np\n",
    "import matplotlib.pyplot as plt\n",
    "e0 =  8.854e-12"
   ]
  },
  {
   "cell_type": "markdown",
   "metadata": {},
   "source": [
    "# 2D"
   ]
  },
  {
   "cell_type": "code",
   "execution_count": 2,
   "metadata": {},
   "outputs": [],
   "source": [
    "outer = Rectangle(10, 10).Face()\n",
    "outer = outer.Move((-5,-5,0))\n",
    "outer.edges.Max(X).name = \"r\"\n",
    "outer.edges.Min(X).name = \"l\"\n",
    "outer.edges.Min(Y).name = \"b\"\n",
    "outer.edges.Max(Y).name = \"t\"\n",
    "\n",
    "\n",
    "electrode = Rectangle(0.8, 0.1).Face()\n",
    "\n",
    "electrode_a = electrode.Move((-0.4, 0.3, 0))\n",
    "electrode_a.edges.name=\"inner_upper\"\n",
    "electrode_a.faces.col=(0,0,1)\n",
    "\n",
    "electrode_b = electrode.Move((-0.4, -0.4, 0))\n",
    "electrode_b.edges.name=\"inner_lower\"\n",
    "electrode_b.faces.col=(0,0,1)\n",
    "\n",
    "face = outer - electrode_a - electrode_b\n",
    "\n",
    "geo = Glue([outer, electrode_a, electrode_b])\n",
    "\n",
    "\n",
    "\n",
    "\n",
    "# Draw(geo)"
   ]
  },
  {
   "cell_type": "code",
   "execution_count": 3,
   "metadata": {},
   "outputs": [
    {
     "data": {
      "application/vnd.jupyter.widget-view+json": {
       "model_id": "24d80371c0414a3e9180a84cfba57d2b",
       "version_major": 2,
       "version_minor": 0
      },
      "text/plain": [
       "WebGuiWidget(layout=Layout(height='500px', width='100%'), value={'ngsolve_version': 'Netgen x.x', 'mesh_dim': …"
      ]
     },
     "metadata": {},
     "output_type": "display_data"
    },
    {
     "data": {
      "text/plain": [
       "BaseWebGuiScene"
      ]
     },
     "execution_count": 3,
     "metadata": {},
     "output_type": "execute_result"
    }
   ],
   "source": [
    "Draw(geo)"
   ]
  },
  {
   "cell_type": "code",
   "execution_count": 8,
   "metadata": {},
   "outputs": [],
   "source": [
    "def my_2D_simulation(geo, maxh, order):\n",
    "    mesh = Mesh(OCCGeometry(geo, dim=2).GenerateMesh(maxh=maxh))\n",
    "    fes = H1(mesh, order =order, dirichlet=\"inner_lower|inner_upper\")\n",
    "    u, v = fes.TnT()\n",
    "    gfu = GridFunction(fes)\n",
    "    bdry_values = {'inner_lower': -1, 'inner_upper': 1}\n",
    "    gfu.Set(mesh.BoundaryCF(bdry_values, default=0), BND)\n",
    "    a = BilinearForm(fes)\n",
    "    a += grad(u)*grad(v)*dx\n",
    "    a.Assemble()\n",
    "    r = - a.mat * gfu.vec\n",
    "    gfu.vec.data += a.mat.Inverse(freedofs=fes.FreeDofs()) * r\n",
    "    E = -grad(gfu)\n",
    "    return gfu, E, mesh\n",
    "\n",
    "def calc_energy(E, mesh):\n",
    "    energy_density = 0.5*e0*InnerProduct(E,E)\n",
    "    energy = Integrate(energy_density, mesh)\n",
    "    return energy\n"
   ]
  },
  {
   "cell_type": "code",
   "execution_count": 9,
   "metadata": {},
   "outputs": [],
   "source": [
    "sol, elecrtic_field, mesh = my_2D_simulation(geo, 0.5, 1)"
   ]
  },
  {
   "cell_type": "code",
   "execution_count": 10,
   "metadata": {},
   "outputs": [
    {
     "data": {
      "application/vnd.jupyter.widget-view+json": {
       "model_id": "6c356c2dd5144b23ae557c9e52983cf8",
       "version_major": 2,
       "version_minor": 0
      },
      "text/plain": [
       "WebGuiWidget(layout=Layout(height='500px', width='100%'), value={'gui_settings': {}, 'ngsolve_version': '6.2.2…"
      ]
     },
     "metadata": {},
     "output_type": "display_data"
    },
    {
     "data": {
      "text/plain": [
       "BaseWebGuiScene"
      ]
     },
     "execution_count": 10,
     "metadata": {},
     "output_type": "execute_result"
    }
   ],
   "source": [
    "Draw(sol, mesh)"
   ]
  },
  {
   "cell_type": "code",
   "execution_count": 13,
   "metadata": {},
   "outputs": [
    {
     "data": {
      "application/vnd.jupyter.widget-view+json": {
       "model_id": "b6833f1d64c3433b9bde055e72a7eb9e",
       "version_major": 2,
       "version_minor": 0
      },
      "text/plain": [
       "WebGuiWidget(layout=Layout(height='500px', width='100%'), value={'gui_settings': {}, 'ngsolve_version': '6.2.2…"
      ]
     },
     "metadata": {},
     "output_type": "display_data"
    },
    {
     "data": {
      "text/plain": [
       "BaseWebGuiScene"
      ]
     },
     "execution_count": 13,
     "metadata": {},
     "output_type": "execute_result"
    }
   ],
   "source": [
    "Draw(sol, mesh)"
   ]
  },
  {
   "cell_type": "code",
   "execution_count": null,
   "metadata": {},
   "outputs": [],
   "source": []
  },
  {
   "cell_type": "code",
   "execution_count": null,
   "metadata": {},
   "outputs": [],
   "source": []
  },
  {
   "cell_type": "code",
   "execution_count": null,
   "metadata": {},
   "outputs": [],
   "source": []
  },
  {
   "cell_type": "code",
   "execution_count": 6,
   "metadata": {},
   "outputs": [
    {
     "data": {
      "text/plain": [
       "5.038148276416199e-11"
      ]
     },
     "execution_count": 6,
     "metadata": {},
     "output_type": "execute_result"
    }
   ],
   "source": [
    "calc_energy(elecrtic_field, mesh)"
   ]
  },
  {
   "cell_type": "code",
   "execution_count": 47,
   "metadata": {},
   "outputs": [],
   "source": [
    "from itertools import product"
   ]
  },
  {
   "cell_type": "code",
   "execution_count": 48,
   "metadata": {},
   "outputs": [],
   "source": [
    "H = [0.5/(i+1) for i in range(4)]\n",
    "orders = range(1,4)\n",
    "\n",
    "energies = np.zeros((len(H), len(orders)))"
   ]
  },
  {
   "cell_type": "code",
   "execution_count": 49,
   "metadata": {},
   "outputs": [],
   "source": [
    "for i in range(len(H)):\n",
    "    for j in range(len(orders)):\n",
    "        E, mesh = my_2D_simulation(geo, H[i], orders[j] )\n",
    "        energies[i, j] = calc_energy(E, mesh)\n",
    "        \n",
    "\n",
    "        "
   ]
  },
  {
   "cell_type": "code",
   "execution_count": 50,
   "metadata": {},
   "outputs": [],
   "source": [
    "best_result = energies[-1, -1]"
   ]
  },
  {
   "cell_type": "code",
   "execution_count": 51,
   "metadata": {},
   "outputs": [
    {
     "data": {
      "image/png": "[encoded data removed]",
      "text/plain": [
       "<Figure size 640x480 with 1 Axes>"
      ]
     },
     "metadata": {},
     "output_type": "display_data"
    }
   ],
   "source": [
    "fig, ax = plt.subplots(1,1)\n",
    "for order in range(0,3):\n",
    "    ax.loglog(H, energies[:, order], label = f\"order={order}\")\n",
    "\n",
    "ax.set(title = \"energy convergence\", \n",
    "       xlabel = \"h(m)\", \n",
    "       ylabel = \"energy (J)\"\n",
    "       )\n",
    "ax.legend()\n",
    "ax.grid()"
   ]
  },
  {
   "cell_type": "markdown",
   "metadata": {},
   "source": [
    "From the formula of energy (integral), the only parameter that is not adjusted when going from m->mm is the dielectric constant. For that reason the only difference we expect is that the energy becomes 1000 times smaller. "
   ]
  },
  {
   "cell_type": "markdown",
   "metadata": {},
   "source": [
    "# 3D"
   ]
  },
  {
   "cell_type": "code",
   "execution_count": 52,
   "metadata": {},
   "outputs": [],
   "source": [
    "from ngsolve import *\n",
    "from ngsolve.webgui import Draw\n",
    "from netgen.occ import *\n",
    "from netgen.csg import *\n",
    "e0 =  8.854e-12"
   ]
  },
  {
   "cell_type": "code",
   "execution_count": 53,
   "metadata": {},
   "outputs": [],
   "source": [
    "outer = Rectangle(10, 10).Face().Extrude(10)\n",
    "outer = outer.Move((-5,-5,-5))\n",
    "\n",
    "for face in outer.faces[:]:\n",
    "    face.name = \"outer\"\n",
    "\n",
    "\n",
    "electrode = Rectangle(0.8, 0.1).Face().Extrude(0.8)\n",
    "\n",
    "electrode_a = electrode.Move((-0.4, 0.3, 0))\n",
    "electrode_b = electrode.Move((-0.4, -0.4, 0))\n",
    "\n",
    "for face_e1, face_e2 in zip(electrode_a.faces[:], electrode_b.faces[:]):\n",
    "    face_e1.name=\"e1\"\n",
    "    face_e2.name=\"e2\"\n",
    "\n",
    "\n",
    "geo = outer - electrode_a - electrode_b\n",
    "\n",
    "mesh = Mesh(OCCGeometry(geo, dim=3).GenerateMesh(maxh=0.5))\n",
    "\n",
    "# Draw(mesh, clipping={\"y\":1, \"z\":0, \"dist\":0.0, \"function\":True})"
   ]
  },
  {
   "cell_type": "code",
   "execution_count": 54,
   "metadata": {},
   "outputs": [],
   "source": [
    "for edge1, edge2 in zip(electrode_a.edges[:], electrode_b.edges[:]):\n",
    "    edge1.maxh=0.1\n",
    "    edge2.maxh=0.1"
   ]
  },
  {
   "cell_type": "code",
   "execution_count": 55,
   "metadata": {},
   "outputs": [],
   "source": [
    "\n",
    "cf = mesh.BoundaryCF({\"e1\":1, \"e2\":-1}, default=0)\n",
    "\n",
    "fes = H1(mesh, order =1, dirichlet=\"e1|e2\")\n",
    "u, v = fes.TnT()\n",
    "\n",
    "a = BilinearForm(e0* grad(u)*grad(v)*dx)\n",
    "# a +=\n",
    "a.Assemble()\n",
    "\n",
    "f = LinearForm(fes).Assemble()\n",
    "gfu = GridFunction(fes)\n",
    "gfu.Set(cf, definedon = \".*\")\n",
    "\n",
    "inv = a.mat.Inverse(freedofs=fes.FreeDofs())\n",
    "\n",
    "r = f.vec - a.mat * gfu.vec"
   ]
  },
  {
   "cell_type": "code",
   "execution_count": 56,
   "metadata": {},
   "outputs": [],
   "source": [
    "gfu.vec.data += inv * r"
   ]
  },
  {
   "cell_type": "code",
   "execution_count": 57,
   "metadata": {},
   "outputs": [],
   "source": [
    "E_el = 0.5*e0* Integrate(grad(gfu)**2, mesh)"
   ]
  },
  {
   "cell_type": "code",
   "execution_count": 58,
   "metadata": {},
   "outputs": [
    {
     "data": {
      "text/plain": [
       "0.0"
      ]
     },
     "execution_count": 58,
     "metadata": {},
     "output_type": "execute_result"
    }
   ],
   "source": [
    "E_el"
   ]
  },
  {
   "cell_type": "code",
   "execution_count": 59,
   "metadata": {},
   "outputs": [
    {
     "data": {
      "application/vnd.jupyter.widget-view+json": {
       "model_id": "92013d706989404f9b6f092652b14e60",
       "version_major": 2,
       "version_minor": 0
      },
      "text/plain": [
       "WebGuiWidget(layout=Layout(height='500px', width='100%'), value={'gui_settings': {}, 'ngsolve_version': '6.2.2…"
      ]
     },
     "metadata": {},
     "output_type": "display_data"
    },
    {
     "data": {
      "text/plain": [
       "BaseWebGuiScene"
      ]
     },
     "execution_count": 59,
     "metadata": {},
     "output_type": "execute_result"
    }
   ],
   "source": [
    "# Defining Dimensions\n",
    "\n",
    "from ngsolve import *\n",
    "from ngsolve.webgui import Draw\n",
    "from netgen.occ import *\n",
    "from netgen.csg import *\n",
    "e0 =  8.854e-12\n",
    "\n",
    "\n",
    "\n",
    "\n",
    "cube = Rectangle(10, 10).Face().Extrude(10).Move((-5,-5,-5))\n",
    "electrode = Rectangle(0.8, 0.1).Face().Extrude(0.8)\n",
    "electrode1_sol = electrode.Move((-0.4, 0.3, -0.4))\n",
    "electrode2_sol = electrode.Move((-0.4, -0.4, -0.4))\n",
    "\n",
    "\n",
    "\n",
    "for face_e1, face_e2 in zip(electrode1_sol.faces[:], electrode2_sol.faces[:]):\n",
    "    face_e1.name = \"e1\"\n",
    "    face_e2.name = \"e2\" \n",
    "\n",
    "# Merge solids\n",
    "# solid = cube - electrode1_sol - electrode2_sol\n",
    "\n",
    "solid = Glue([cube, electrode1_sol, electrode2_sol])\n",
    "# Apply local mesh size to edges of electrodes\n",
    "for edge1, edge2 in zip(electrode1_sol.edges[:], electrode2_sol.edges[:]):\n",
    "    edge1.maxh = 0.05\n",
    "    edge2.maxh = 0.05\n",
    "\n",
    "# with TaskManager():\n",
    "mesh = Mesh(OCCGeometry(solid, dim=3).GenerateMesh(maxh=0.5, grading=0.99))\n",
    "Draw(mesh)"
   ]
  },
  {
   "cell_type": "code",
   "execution_count": 60,
   "metadata": {},
   "outputs": [
    {
     "name": "stdout",
     "output_type": "stream",
     "text": [
      "8.070556147016591e-11\n"
     ]
    }
   ],
   "source": [
    "cf = mesh.BoundaryCF({\"e1\": 1, \"e2\": -1}, default = 0)\n",
    "fes = H1(mesh, order=1, dirichlet=\"e.*\")\n",
    "u,v = fes.TnT()\n",
    "# Bilinear form\n",
    "a = BilinearForm(e0 * grad(u) * grad(v) * dx)\n",
    "a.Assemble()\n",
    "# Linear form\n",
    "# f = LinearForm(fes)\n",
    "# f.Assemble();\n",
    "gfu = GridFunction(fes) # solution\n",
    "# Set Dirichlet BC\n",
    "gfu.Set(cf, definedon=mesh.Boundaries('.*'))\n",
    "# Slove System of Linear Equations\n",
    "inv = a.mat.Inverse(freedofs=fes.FreeDofs())\n",
    "residuum = - a.mat * gfu.vec\n",
    "gfu.vec.data += inv * residuum\n",
    "\n",
    "# Compute Electric energy\n",
    "E_el = 1/2 * e0 * Integrate(grad(gfu)**2, mesh)\n",
    "print(E_el)\n",
    "\n",
    "\n",
    "# cf = mesh.BoundaryCF({\"e1\":1, \"e2\":-1}, default=0)\n",
    "\n",
    "# fes = H1(mesh, order =1, dirichlet=\"e1|e2\")\n",
    "# u, v = fes.TnT()\n",
    "\n",
    "# a = BilinearForm(e0* grad(u)*grad(v)*dx)\n",
    "# a.Assemble()\n",
    "\n",
    "# f = LinearForm(fes).Assemble()\n",
    "# gfu = GridFunction(fes)\n",
    "# gfu.Set(cf, definedon = mesh.Boundaries(\".*\"))\n",
    "\n",
    "# inv = a.mat.Inverse(freedofs=fes.FreeDofs())\n",
    "\n",
    "# r = f.vec - a.mat * gfu.vec"
   ]
  },
  {
   "cell_type": "code",
   "execution_count": null,
   "metadata": {},
   "outputs": [],
   "source": []
  }
 ],
 "metadata": {
  "kernelspec": {
   "display_name": "Python 3",
   "language": "python",
   "name": "python3"
  },
  "language_info": {
   "codemirror_mode": {
    "name": "ipython",
    "version": 3
   },
   "file_extension": ".py",
   "mimetype": "text/x-python",
   "name": "python",
   "nbconvert_exporter": "python",
   "pygments_lexer": "ipython3",
   "version": "3.11.6"
  }
 },
 "nbformat": 4,
 "nbformat_minor": 2
}
