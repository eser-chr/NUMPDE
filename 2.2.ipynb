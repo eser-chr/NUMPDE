{
 "cells": [
  {
   "cell_type": "markdown",
   "metadata": {},
   "source": [
    "$A(u,v) = f(v)$\n",
    "\n",
    "$J(v) = \\frac{1}{2}A(v,v) -f(v)$"
   ]
  },
  {
   "cell_type": "markdown",
   "metadata": {},
   "source": [
    "### Solving the hint part"
   ]
  },
  {
   "cell_type": "markdown",
   "metadata": {},
   "source": [
    "---------------------------------------------"
   ]
  },
  {
   "cell_type": "markdown",
   "metadata": {},
   "source": [
    "$J(v)-J(u) = \\frac{1}{2} A(v,v)- \\frac{1}{2} A(u,u)-f(v)+f(u)$"
   ]
  },
  {
   "cell_type": "markdown",
   "metadata": {},
   "source": [
    "$= \\frac{1}{2} A(v,v)- \\frac{1}{2} A(u,u)-A(u,v)+A(u,u)$"
   ]
  },
  {
   "cell_type": "markdown",
   "metadata": {},
   "source": [
    "$=\\frac{1}{2} A(v,v)+ \\frac{1}{2} A(u,u)-A(u,v)$"
   ]
  },
  {
   "cell_type": "markdown",
   "metadata": {},
   "source": [
    "$=\\frac{1}{2} \\left( A(v,v)-A(u,v) \\right)  +\\frac{1}{2} \\left( A(u,u)-A(u,v) \\right)$"
   ]
  },
  {
   "cell_type": "markdown",
   "metadata": {},
   "source": [
    "$=\\frac{1}{2} A(v-u,v) + \\frac{1}{2} A(u,u-v)$"
   ]
  },
  {
   "cell_type": "markdown",
   "metadata": {},
   "source": [
    "$=\\frac{1}{2} A(v-u,v-u)$"
   ]
  },
  {
   "cell_type": "markdown",
   "metadata": {},
   "source": [
    "---------"
   ]
  },
  {
   "cell_type": "markdown",
   "metadata": {},
   "source": [
    "# UNIQUENESS"
   ]
  },
  {
   "cell_type": "markdown",
   "metadata": {},
   "source": [
    "Let $J(u_1) = J(u_2)$"
   ]
  },
  {
   "cell_type": "markdown",
   "metadata": {},
   "source": [
    "Then $J(u_1)-J(u_2) = 0 = \\frac{1}{2} A(u_1 -u_2, u_1-u_2)$"
   ]
  },
  {
   "cell_type": "markdown",
   "metadata": {},
   "source": [
    "Since A billinear\n",
    "\n",
    "$A(u_1 -u_2, u_1-u_2)=0 \\Leftrightarrow u_1 -u_2=0$"
   ]
  },
  {
   "cell_type": "markdown",
   "metadata": {},
   "source": [
    "which implies $u_1 = u_2$"
   ]
  },
  {
   "cell_type": "markdown",
   "metadata": {},
   "source": [
    "----"
   ]
  },
  {
   "cell_type": "markdown",
   "metadata": {},
   "source": [
    "# MINIMIZATION"
   ]
  },
  {
   "cell_type": "markdown",
   "metadata": {},
   "source": [
    "We need to show\n",
    "\n",
    "$J(v)\\geq J(u) \\quad \\forall v$\n",
    "\n",
    "or \n",
    "\n",
    "$J(v)-J(u) \\geq 0$"
   ]
  },
  {
   "cell_type": "markdown",
   "metadata": {},
   "source": [
    "Due to the above result and the coerceivity of A we can find that"
   ]
  },
  {
   "cell_type": "markdown",
   "metadata": {},
   "source": [
    "$J(v)-J(u) = \\frac{1}{2}A(u-v, u-v)$\n",
    "\n",
    "$\\geq \\alpha || u-v ||^2$\n",
    "\n",
    "$\\geq 0$"
   ]
  },
  {
   "cell_type": "code",
   "execution_count": null,
   "metadata": {},
   "outputs": [],
   "source": []
  }
 ],
 "metadata": {
  "kernelspec": {
   "display_name": "Python 3",
   "language": "python",
   "name": "python3"
  },
  "language_info": {
   "codemirror_mode": {
    "name": "ipython",
    "version": 3
   },
   "file_extension": ".py",
   "mimetype": "text/x-python",
   "name": "python",
   "nbconvert_exporter": "python",
   "pygments_lexer": "ipython3",
   "version": "3.11.6"
  }
 },
 "nbformat": 4,
 "nbformat_minor": 2
}
