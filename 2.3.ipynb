{
 "cells": [
  {
   "cell_type": "code",
   "execution_count": 49,
   "metadata": {},
   "outputs": [],
   "source": [
    "from ngsolve import *\n",
    "from ngsolve.webgui import Draw\n",
    "from netgen.occ import *\n",
    "from netgen.csg import *\n",
    "import numpy as np\n",
    "import matplotlib.pyplot as plt"
   ]
  },
  {
   "cell_type": "markdown",
   "metadata": {},
   "source": [
    "## POINT 1"
   ]
  },
  {
   "cell_type": "code",
   "execution_count": 50,
   "metadata": {},
   "outputs": [
    {
     "data": {
      "application/vnd.jupyter.widget-view+json": {
       "model_id": "f0bb76566c4444699300dc269bd00384",
       "version_major": 2,
       "version_minor": 0
      },
      "text/plain": [
       "WebGuiWidget(layout=Layout(height='500px', width='100%'), value={'gui_settings': {}, 'ngsolve_version': '6.2.2…"
      ]
     },
     "metadata": {},
     "output_type": "display_data"
    },
    {
     "data": {
      "text/plain": [
       "BaseWebGuiScene"
      ]
     },
     "execution_count": 50,
     "metadata": {},
     "output_type": "execute_result"
    }
   ],
   "source": [
    "outer = Rectangle(1,1).Face()\n",
    "outer.edges.Max(X).name = \"r\"\n",
    "outer.edges.Min(X).name = \"l\"\n",
    "outer.edges.Min(Y).name = \"b\"\n",
    "outer.edges.Max(Y).name = \"t\"\n",
    "\n",
    "mesh = Mesh(OCCGeometry(outer, dim=2).GenerateMesh(maxh=0.05))\n",
    "fes = H1(mesh, order=2, dirichlet=\"r|l|b|t\")\n",
    "\n",
    "b = GridFunction(VectorH1(mesh))\n",
    "b.Set((10,2), definedon=\"*\")\n",
    "\n",
    "\n",
    "u, v = fes.TnT()\n",
    "gfu = GridFunction(fes)\n",
    "# gfu.Set(mesh.BoundaryCF({'l':0}), definedon=mesh.Boundaries(\"l\"))\n",
    "\n",
    "\n",
    "a = BilinearForm(fes)\n",
    "a += (grad(u)*grad(v)-InnerProduct(b, u*grad(v)))*dx #-InnerProduct(b, u*grad(v))\n",
    "a.Assemble()\n",
    "\n",
    "f = LinearForm(fes)\n",
    "f+=v*dx\n",
    "f.Assemble()\n",
    "\n",
    "r = f.vec - a.mat * gfu.vec\n",
    "gfu.vec.data += a.mat.Inverse(freedofs=fes.FreeDofs()) * r\n",
    "\n",
    "\n",
    "\n",
    "\n",
    "Draw(gfu, mesh, vectors=True)"
   ]
  },
  {
   "cell_type": "markdown",
   "metadata": {},
   "source": [
    "## POINT 2\n",
    "### Strong form\n",
    "\n",
    "$-\\Delta u + \\nabla(\\vec{b}u) = 1$\n",
    "\n",
    "\n",
    "If we hit both hand sides with $\\int\\limits_{\\Omega} \\star vdV$\n",
    "and perform integration by parts. Since operations are true from both directions (e.g $\\Leftrightarrow$) we prove the estrong form.\n",
    "\n",
    "$\\int\\limits_{\\Omega}\\Delta u \\cdot v dV = \\int\\limits_{\\Gamma} \\partial_n u \\cdot v dS - \\int\\limits_{\\Omega} \\nabla u \\cdot \\nabla v dV$\n",
    "\n",
    "$\\int\\limits_{\\Omega}\\nabla(bu) \\cdot v dV = \\int\\limits_{\\Gamma} bu \\cdot n \\cdot v dS - \\int\\limits_{\\Omega} bu \\cdot \\nabla v dV$\n",
    "\n",
    "\n",
    "$\\int\\limits_{\\Omega}1 v dV =\\int\\limits_{\\Omega}1 v dV$"
   ]
  },
  {
   "cell_type": "markdown",
   "metadata": {},
   "source": [
    "Interpretation: Diffusion, transport and reaction combined. Very commonly found on dynamical systems such as cell processes.\n",
    "Although, usually we deal with non equilibrium cases\n"
   ]
  },
  {
   "cell_type": "markdown",
   "metadata": {},
   "source": [
    "## POINT 3"
   ]
  },
  {
   "cell_type": "markdown",
   "metadata": {},
   "source": [
    "CPU: Apple  M1\n",
    "\n",
    "\n",
    "Run time 1.7 sec "
   ]
  },
  {
   "cell_type": "code",
   "execution_count": 52,
   "metadata": {},
   "outputs": [
    {
     "data": {
      "application/vnd.jupyter.widget-view+json": {
       "model_id": "f86ad372338f46bc98ef0ba1e3fba839",
       "version_major": 2,
       "version_minor": 0
      },
      "text/plain": [
       "WebGuiWidget(layout=Layout(height='500px', width='100%'), value={'gui_settings': {}, 'ngsolve_version': '6.2.2…"
      ]
     },
     "metadata": {},
     "output_type": "display_data"
    },
    {
     "data": {
      "text/plain": [
       "BaseWebGuiScene"
      ]
     },
     "execution_count": 52,
     "metadata": {},
     "output_type": "execute_result"
    }
   ],
   "source": [
    "outer = Rectangle(1,1).Face()\n",
    "outer.edges.Max(X).name = \"r\"\n",
    "outer.edges.Min(X).name = \"l\"\n",
    "outer.edges.Min(Y).name = \"b\"\n",
    "outer.edges.Max(Y).name = \"t\"\n",
    "\n",
    "mesh = Mesh(OCCGeometry(outer, dim=2).GenerateMesh(maxh=0.01))\n",
    "fes = H1(mesh, order=2, dirichlet=\"r|l|b|t\")\n",
    "\n",
    "b = GridFunction(VectorH1(mesh))\n",
    "b.Set((100,100), definedon=\"*\")\n",
    "\n",
    "\n",
    "u, v = fes.TnT()\n",
    "gfu = GridFunction(fes)\n",
    "# gfu.Set(mesh.BoundaryCF({'l':0}), definedon=mesh.Boundaries(\"l\"))\n",
    "\n",
    "\n",
    "a = BilinearForm(fes)\n",
    "a += (grad(u)*grad(v)-InnerProduct(b, u*grad(v)))*dx #-InnerProduct(b, u*grad(v))\n",
    "a.Assemble()\n",
    "\n",
    "f = LinearForm(fes)\n",
    "f+=v*dx\n",
    "f.Assemble()\n",
    "\n",
    "r = f.vec - a.mat * gfu.vec\n",
    "gfu.vec.data += a.mat.Inverse(freedofs=fes.FreeDofs()) * r\n",
    "\n",
    "\n",
    "\n",
    "\n",
    "Draw(gfu, mesh, vectors=True)"
   ]
  },
  {
   "cell_type": "markdown",
   "metadata": {},
   "source": [
    "## POINT 4"
   ]
  },
  {
   "cell_type": "markdown",
   "metadata": {},
   "source": [
    "In this scenario the transport part is dominant and affects the direction of the gradient of the solution dratically. \n",
    "Also since the amplitude of the vector is larger we have to use better resolution."
   ]
  },
  {
   "cell_type": "markdown",
   "metadata": {},
   "source": [
    "We start with the billinear form and apply integration by parts at the convection term.\n",
    "\n",
    "$A(u,u) = \\int\\limits_{\\Omega}\\left[(\\nabla u)^2  - b u\\nabla u \\right] dV$\n",
    "\n",
    "$A(u,u) = \\int\\limits_{\\Omega}\\left[(\\nabla u)^2  - b \\nabla u^2 \\right] dV$\n",
    "\n",
    "$= \\int\\limits_{\\Omega}\\left[(\\nabla u)^2\\right] dV - \\underbrace{\\int\\limits_{\\Gamma} b u^2 dS}_{=0} + \\underbrace {\\int\\limits_{\\Omega} \\nabla b \\cdot u^2 dV}_{=0}  $\n",
    "\n",
    "$ =\\int\\limits_{\\Omega}\\left[(\\nabla u)^2\\right] dV = ||u||_V $\n",
    "\n",
    "$\\geq ||u||_V$"
   ]
  },
  {
   "cell_type": "markdown",
   "metadata": {},
   "source": []
  }
 ],
 "metadata": {
  "kernelspec": {
   "display_name": "Python 3",
   "language": "python",
   "name": "python3"
  },
  "language_info": {
   "codemirror_mode": {
    "name": "ipython",
    "version": 3
   },
   "file_extension": ".py",
   "mimetype": "text/x-python",
   "name": "python",
   "nbconvert_exporter": "python",
   "pygments_lexer": "ipython3",
   "version": "3.11.6"
  }
 },
 "nbformat": 4,
 "nbformat_minor": 2
}
